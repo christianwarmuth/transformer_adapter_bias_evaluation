{
  "nbformat": 4,
  "nbformat_minor": 0,
  "metadata": {
    "colab": {
      "name": "adapter_evaluation.ipynb",
      "provenance": [],
      "collapsed_sections": [],
      "include_colab_link": true
    },
    "kernelspec": {
      "name": "python3",
      "display_name": "Python 3"
    },
    "language_info": {
      "name": "python"
    },
    "accelerator": "GPU"
  },
  "cells": [
    {
      "cell_type": "markdown",
      "metadata": {
        "id": "view-in-github",
        "colab_type": "text"
      },
      "source": [
        "<a href=\"https://colab.research.google.com/github/christianwarmuth/transformer_adapter_bias_evaluation/blob/main/code/adapter_evaluation/adapter_evaluation.ipynb\" target=\"_parent\"><img src=\"https://colab.research.google.com/assets/colab-badge.svg\" alt=\"Open In Colab\"/></a>"
      ]
    },
    {
      "cell_type": "code",
      "metadata": {
        "id": "gqFl7uUVgEz7"
      },
      "source": [
        "%load_ext autoreload\n",
        "%autoreload 2"
      ],
      "execution_count": 1,
      "outputs": []
    },
    {
      "cell_type": "code",
      "metadata": {
        "colab": {
          "base_uri": "https://localhost:8080/"
        },
        "id": "mthG05Ijv6SZ",
        "outputId": "e3b082c7-a322-4b65-fe1e-770cb9f271e3"
      },
      "source": [
        "gpu_info = !nvidia-smi\n",
        "gpu_info = '\\n'.join(gpu_info)\n",
        "if gpu_info.find('failed') >= 0:\n",
        "  print('Select the Runtime > \"Change runtime type\" menu to enable a GPU accelerator, ')\n",
        "  print('and then re-execute this cell.')\n",
        "else:\n",
        "  print(gpu_info)"
      ],
      "execution_count": 2,
      "outputs": [
        {
          "output_type": "stream",
          "text": [
            "Tue Jul 27 14:39:45 2021       \n",
            "+-----------------------------------------------------------------------------+\n",
            "| NVIDIA-SMI 470.42.01    Driver Version: 460.32.03    CUDA Version: 11.2     |\n",
            "|-------------------------------+----------------------+----------------------+\n",
            "| GPU  Name        Persistence-M| Bus-Id        Disp.A | Volatile Uncorr. ECC |\n",
            "| Fan  Temp  Perf  Pwr:Usage/Cap|         Memory-Usage | GPU-Util  Compute M. |\n",
            "|                               |                      |               MIG M. |\n",
            "|===============================+======================+======================|\n",
            "|   0  Tesla P100-PCIE...  Off  | 00000000:00:04.0 Off |                    0 |\n",
            "| N/A   47C    P0    30W / 250W |      0MiB / 16280MiB |      0%      Default |\n",
            "|                               |                      |                  N/A |\n",
            "+-------------------------------+----------------------+----------------------+\n",
            "                                                                               \n",
            "+-----------------------------------------------------------------------------+\n",
            "| Processes:                                                                  |\n",
            "|  GPU   GI   CI        PID   Type   Process name                  GPU Memory |\n",
            "|        ID   ID                                                   Usage      |\n",
            "|=============================================================================|\n",
            "|  No running processes found                                                 |\n",
            "+-----------------------------------------------------------------------------+\n"
          ],
          "name": "stdout"
        }
      ]
    },
    {
      "cell_type": "code",
      "metadata": {
        "colab": {
          "base_uri": "https://localhost:8080/"
        },
        "id": "9SyR5EK-hsOv",
        "outputId": "12201ffa-1f1f-4b21-f571-3d04c06b1747"
      },
      "source": [
        "from google.colab import drive\n",
        "drive.mount(\"/content/gdrive/\", force_remount=True)"
      ],
      "execution_count": 3,
      "outputs": [
        {
          "output_type": "stream",
          "text": [
            "Mounted at /content/gdrive/\n"
          ],
          "name": "stdout"
        }
      ]
    },
    {
      "cell_type": "code",
      "metadata": {
        "colab": {
          "base_uri": "https://localhost:8080/"
        },
        "id": "julO5QKjnRTA",
        "outputId": "3e3c3f4b-5a75-46fa-ea2b-df2b9bf8e97e"
      },
      "source": [
        "!pip install -U git+https://github.com/Adapter-Hub/adapter-transformers.git\n",
        "#!pip install transformers==3.0.2\n",
        "!pip3 install -r /content/gdrive/MyDrive/master_hpi/NLP_Project/requirements.txt"
      ],
      "execution_count": 4,
      "outputs": [
        {
          "output_type": "stream",
          "text": [
            "Collecting git+https://github.com/Adapter-Hub/adapter-transformers.git\n",
            "  Cloning https://github.com/Adapter-Hub/adapter-transformers.git to /tmp/pip-req-build-use23e9r\n",
            "  Running command git clone -q https://github.com/Adapter-Hub/adapter-transformers.git /tmp/pip-req-build-use23e9r\n",
            "  Installing build dependencies ... \u001b[?25l\u001b[?25hdone\n",
            "  Getting requirements to build wheel ... \u001b[?25l\u001b[?25hdone\n",
            "    Preparing wheel metadata ... \u001b[?25l\u001b[?25hdone\n",
            "Requirement already satisfied: regex!=2019.12.17 in /usr/local/lib/python3.7/dist-packages (from adapter-transformers==2.1.1) (2020.2.20)\n",
            "Requirement already satisfied: sacremoses in /usr/local/lib/python3.7/dist-packages (from adapter-transformers==2.1.1) (0.0.38)\n",
            "Requirement already satisfied: requests in /usr/local/lib/python3.7/dist-packages (from adapter-transformers==2.1.1) (2.23.0)\n",
            "Requirement already satisfied: packaging in /usr/local/lib/python3.7/dist-packages (from adapter-transformers==2.1.1) (21.0)\n",
            "Requirement already satisfied: tqdm>=4.27 in /usr/local/lib/python3.7/dist-packages (from adapter-transformers==2.1.1) (4.45.0)\n",
            "Requirement already satisfied: pyyaml in /usr/local/lib/python3.7/dist-packages (from adapter-transformers==2.1.1) (3.13)\n",
            "Requirement already satisfied: importlib-metadata in /usr/local/lib/python3.7/dist-packages (from adapter-transformers==2.1.1) (1.6.0)\n",
            "Requirement already satisfied: numpy>=1.17 in /usr/local/lib/python3.7/dist-packages (from adapter-transformers==2.1.1) (1.19.5)\n",
            "Requirement already satisfied: filelock in /usr/local/lib/python3.7/dist-packages (from adapter-transformers==2.1.1) (3.0.12)\n",
            "Requirement already satisfied: huggingface-hub>=0.0.13 in /usr/local/lib/python3.7/dist-packages (from adapter-transformers==2.1.1) (0.0.14)\n",
            "Requirement already satisfied: tokenizers<0.11,>=0.10.1 in /usr/local/lib/python3.7/dist-packages (from adapter-transformers==2.1.1) (0.10.3)\n",
            "Requirement already satisfied: typing-extensions in /usr/local/lib/python3.7/dist-packages (from huggingface-hub>=0.0.13->adapter-transformers==2.1.1) (3.7.4.3)\n",
            "Requirement already satisfied: pyparsing>=2.0.2 in /usr/local/lib/python3.7/dist-packages (from packaging->adapter-transformers==2.1.1) (2.4.7)\n",
            "Requirement already satisfied: zipp>=0.5 in /usr/local/lib/python3.7/dist-packages (from importlib-metadata->adapter-transformers==2.1.1) (3.1.0)\n",
            "Requirement already satisfied: chardet<4,>=3.0.2 in /usr/local/lib/python3.7/dist-packages (from requests->adapter-transformers==2.1.1) (3.0.4)\n",
            "Requirement already satisfied: urllib3!=1.25.0,!=1.25.1,<1.26,>=1.21.1 in /usr/local/lib/python3.7/dist-packages (from requests->adapter-transformers==2.1.1) (1.25.8)\n",
            "Requirement already satisfied: idna<3,>=2.5 in /usr/local/lib/python3.7/dist-packages (from requests->adapter-transformers==2.1.1) (2.9)\n",
            "Requirement already satisfied: certifi>=2017.4.17 in /usr/local/lib/python3.7/dist-packages (from requests->adapter-transformers==2.1.1) (2019.11.28)\n",
            "Requirement already satisfied: joblib in /usr/local/lib/python3.7/dist-packages (from sacremoses->adapter-transformers==2.1.1) (0.14.1)\n",
            "Requirement already satisfied: six in /usr/local/lib/python3.7/dist-packages (from sacremoses->adapter-transformers==2.1.1) (1.14.0)\n",
            "Requirement already satisfied: click in /usr/local/lib/python3.7/dist-packages (from sacremoses->adapter-transformers==2.1.1) (7.1.1)\n",
            "Requirement already satisfied: blis==0.4.1 in /usr/local/lib/python3.7/dist-packages (from -r /content/gdrive/MyDrive/master_hpi/NLP_Project/requirements.txt (line 1)) (0.4.1)\n",
            "Requirement already satisfied: boto3==1.12.36 in /usr/local/lib/python3.7/dist-packages (from -r /content/gdrive/MyDrive/master_hpi/NLP_Project/requirements.txt (line 2)) (1.12.36)\n",
            "Requirement already satisfied: botocore==1.15.36 in /usr/local/lib/python3.7/dist-packages (from -r /content/gdrive/MyDrive/master_hpi/NLP_Project/requirements.txt (line 3)) (1.15.36)\n",
            "Requirement already satisfied: catalogue==1.0.0 in /usr/local/lib/python3.7/dist-packages (from -r /content/gdrive/MyDrive/master_hpi/NLP_Project/requirements.txt (line 4)) (1.0.0)\n",
            "Requirement already satisfied: certifi==2019.11.28 in /usr/local/lib/python3.7/dist-packages (from -r /content/gdrive/MyDrive/master_hpi/NLP_Project/requirements.txt (line 5)) (2019.11.28)\n",
            "Requirement already satisfied: chardet==3.0.4 in /usr/local/lib/python3.7/dist-packages (from -r /content/gdrive/MyDrive/master_hpi/NLP_Project/requirements.txt (line 6)) (3.0.4)\n",
            "Requirement already satisfied: click==7.1.1 in /usr/local/lib/python3.7/dist-packages (from -r /content/gdrive/MyDrive/master_hpi/NLP_Project/requirements.txt (line 7)) (7.1.1)\n",
            "Requirement already satisfied: colorama==0.4.3 in /usr/local/lib/python3.7/dist-packages (from -r /content/gdrive/MyDrive/master_hpi/NLP_Project/requirements.txt (line 8)) (0.4.3)\n",
            "Requirement already satisfied: cymem==2.0.3 in /usr/local/lib/python3.7/dist-packages (from -r /content/gdrive/MyDrive/master_hpi/NLP_Project/requirements.txt (line 9)) (2.0.3)\n",
            "Requirement already satisfied: docutils==0.15.2 in /usr/local/lib/python3.7/dist-packages (from -r /content/gdrive/MyDrive/master_hpi/NLP_Project/requirements.txt (line 10)) (0.15.2)\n",
            "Requirement already satisfied: en-core-web-sm==2.2.5 in /usr/local/lib/python3.7/dist-packages (from -r /content/gdrive/MyDrive/master_hpi/NLP_Project/requirements.txt (line 11)) (2.2.5)\n",
            "Requirement already satisfied: filelock==3.0.12 in /usr/local/lib/python3.7/dist-packages (from -r /content/gdrive/MyDrive/master_hpi/NLP_Project/requirements.txt (line 12)) (3.0.12)\n",
            "Requirement already satisfied: idna==2.9 in /usr/local/lib/python3.7/dist-packages (from -r /content/gdrive/MyDrive/master_hpi/NLP_Project/requirements.txt (line 13)) (2.9)\n",
            "Requirement already satisfied: importlib-metadata==1.6.0 in /usr/local/lib/python3.7/dist-packages (from -r /content/gdrive/MyDrive/master_hpi/NLP_Project/requirements.txt (line 14)) (1.6.0)\n",
            "Requirement already satisfied: jmespath==0.9.5 in /usr/local/lib/python3.7/dist-packages (from -r /content/gdrive/MyDrive/master_hpi/NLP_Project/requirements.txt (line 15)) (0.9.5)\n",
            "Requirement already satisfied: joblib==0.14.1 in /usr/local/lib/python3.7/dist-packages (from -r /content/gdrive/MyDrive/master_hpi/NLP_Project/requirements.txt (line 16)) (0.14.1)\n",
            "Requirement already satisfied: murmurhash==1.0.2 in /usr/local/lib/python3.7/dist-packages (from -r /content/gdrive/MyDrive/master_hpi/NLP_Project/requirements.txt (line 17)) (1.0.2)\n",
            "Requirement already satisfied: plac==1.1.3 in /usr/local/lib/python3.7/dist-packages (from -r /content/gdrive/MyDrive/master_hpi/NLP_Project/requirements.txt (line 18)) (1.1.3)\n",
            "Requirement already satisfied: preshed==3.0.2 in /usr/local/lib/python3.7/dist-packages (from -r /content/gdrive/MyDrive/master_hpi/NLP_Project/requirements.txt (line 19)) (3.0.2)\n",
            "Requirement already satisfied: python-dateutil==2.8.1 in /usr/local/lib/python3.7/dist-packages (from -r /content/gdrive/MyDrive/master_hpi/NLP_Project/requirements.txt (line 20)) (2.8.1)\n",
            "Requirement already satisfied: pytz==2019.3 in /usr/local/lib/python3.7/dist-packages (from -r /content/gdrive/MyDrive/master_hpi/NLP_Project/requirements.txt (line 21)) (2019.3)\n",
            "Requirement already satisfied: regex==2020.2.20 in /usr/local/lib/python3.7/dist-packages (from -r /content/gdrive/MyDrive/master_hpi/NLP_Project/requirements.txt (line 22)) (2020.2.20)\n",
            "Requirement already satisfied: requests in /usr/local/lib/python3.7/dist-packages (from -r /content/gdrive/MyDrive/master_hpi/NLP_Project/requirements.txt (line 23)) (2.23.0)\n",
            "Requirement already satisfied: s3transfer==0.3.3 in /usr/local/lib/python3.7/dist-packages (from -r /content/gdrive/MyDrive/master_hpi/NLP_Project/requirements.txt (line 24)) (0.3.3)\n",
            "Requirement already satisfied: sacremoses==0.0.38 in /usr/local/lib/python3.7/dist-packages (from -r /content/gdrive/MyDrive/master_hpi/NLP_Project/requirements.txt (line 25)) (0.0.38)\n",
            "Requirement already satisfied: scikit-learn==0.22.2.post1 in /usr/local/lib/python3.7/dist-packages (from -r /content/gdrive/MyDrive/master_hpi/NLP_Project/requirements.txt (line 26)) (0.22.2.post1)\n",
            "Requirement already satisfied: scipy==1.4.1 in /usr/local/lib/python3.7/dist-packages (from -r /content/gdrive/MyDrive/master_hpi/NLP_Project/requirements.txt (line 27)) (1.4.1)\n",
            "Requirement already satisfied: sentencepiece==0.1.85 in /usr/local/lib/python3.7/dist-packages (from -r /content/gdrive/MyDrive/master_hpi/NLP_Project/requirements.txt (line 28)) (0.1.85)\n",
            "Requirement already satisfied: six==1.14.0 in /usr/local/lib/python3.7/dist-packages (from -r /content/gdrive/MyDrive/master_hpi/NLP_Project/requirements.txt (line 29)) (1.14.0)\n",
            "Requirement already satisfied: sklearn==0.0 in /usr/local/lib/python3.7/dist-packages (from -r /content/gdrive/MyDrive/master_hpi/NLP_Project/requirements.txt (line 30)) (0.0)\n",
            "Requirement already satisfied: spacy==2.2.4 in /usr/local/lib/python3.7/dist-packages (from -r /content/gdrive/MyDrive/master_hpi/NLP_Project/requirements.txt (line 31)) (2.2.4)\n",
            "Requirement already satisfied: srsly==1.0.2 in /usr/local/lib/python3.7/dist-packages (from -r /content/gdrive/MyDrive/master_hpi/NLP_Project/requirements.txt (line 32)) (1.0.2)\n",
            "Requirement already satisfied: thinc==7.4.0 in /usr/local/lib/python3.7/dist-packages (from -r /content/gdrive/MyDrive/master_hpi/NLP_Project/requirements.txt (line 33)) (7.4.0)\n",
            "Requirement already satisfied: torch==1.6.0 in /usr/local/lib/python3.7/dist-packages (from -r /content/gdrive/MyDrive/master_hpi/NLP_Project/requirements.txt (line 34)) (1.6.0)\n",
            "Requirement already satisfied: tqdm==4.45.0 in /usr/local/lib/python3.7/dist-packages (from -r /content/gdrive/MyDrive/master_hpi/NLP_Project/requirements.txt (line 35)) (4.45.0)\n",
            "Requirement already satisfied: urllib3==1.25.8 in /usr/local/lib/python3.7/dist-packages (from -r /content/gdrive/MyDrive/master_hpi/NLP_Project/requirements.txt (line 36)) (1.25.8)\n",
            "Requirement already satisfied: wasabi==0.6.0 in /usr/local/lib/python3.7/dist-packages (from -r /content/gdrive/MyDrive/master_hpi/NLP_Project/requirements.txt (line 37)) (0.6.0)\n",
            "Requirement already satisfied: zipp==3.1.0 in /usr/local/lib/python3.7/dist-packages (from -r /content/gdrive/MyDrive/master_hpi/NLP_Project/requirements.txt (line 38)) (3.1.0)\n",
            "Requirement already satisfied: numpy>=1.15.0 in /usr/local/lib/python3.7/dist-packages (from blis==0.4.1->-r /content/gdrive/MyDrive/master_hpi/NLP_Project/requirements.txt (line 1)) (1.19.5)\n",
            "Requirement already satisfied: setuptools in /usr/local/lib/python3.7/dist-packages (from spacy==2.2.4->-r /content/gdrive/MyDrive/master_hpi/NLP_Project/requirements.txt (line 31)) (57.2.0)\n",
            "Requirement already satisfied: future in /usr/local/lib/python3.7/dist-packages (from torch==1.6.0->-r /content/gdrive/MyDrive/master_hpi/NLP_Project/requirements.txt (line 34)) (0.16.0)\n"
          ],
          "name": "stdout"
        }
      ]
    },
    {
      "cell_type": "code",
      "metadata": {
        "id": "fbEF5yRZy4an"
      },
      "source": [
        "import sys\n",
        "from collections import defaultdict \n",
        "from collections import defaultdict \n",
        "from transformers import BertForMaskedLM, BertModel, BertTokenizer, BertForSequenceClassification\n",
        "\n",
        "sys.path.append('/content/gdrive/MyDrive/master_hpi/NLP_Project/code/adapter_evaluation/')\n",
        "path = \"/content/gdrive/MyDrive/master_hpi/NLP_Project/code/\""
      ],
      "execution_count": 5,
      "outputs": []
    },
    {
      "cell_type": "code",
      "metadata": {
        "id": "R8yDqLezqXLT"
      },
      "source": [
        "#adapter_list = [\"sst\"]\n",
        "#for adapter in adapter_list:\n",
        "#  print(\"!python3 evaluation.py --no-cuda False --output-dir /content/gdrive/MyDrive/master_hpi/NLP_Project/code/results/ -- skip_intrasentence False --skip_intersentence False --batch_size 1\")"
      ],
      "execution_count": 6,
      "outputs": []
    },
    {
      "cell_type": "markdown",
      "metadata": {
        "id": "njMAGdTygkwL"
      },
      "source": [
        "## Sentiment Bert\n"
      ]
    },
    {
      "cell_type": "code",
      "metadata": {
        "id": "BWdxhEjqgaGX"
      },
      "source": [
        "import os\n",
        "try:\n",
        "    os.makedirs('/content/gdrive/MyDrive/master_hpi/NLP_Project/code/results/sentiment_bert/')\n",
        "except OSError as e:\n",
        "        pass"
      ],
      "execution_count": null,
      "outputs": []
    },
    {
      "cell_type": "code",
      "metadata": {
        "id": "pKR_7gYdgtM1"
      },
      "source": [
        "!python3 /content/gdrive/MyDrive/master_hpi/NLP_Project/code/adapter_evaluation/evaluation.py --load-path /content/gdrive/MyDrive/master_hpi/NLP_Project/code/models/sentiment_bert/SentimentBert.pth --input-file /content/gdrive/MyDrive/master_hpi/NLP_Project/code/dev.json --output-dir /content/gdrive/MyDrive/master_hpi/NLP_Project/code/results/sentiment_bert/ --output-file /content/gdrive/MyDrive/master_hpi/NLP_Project/code/results/sentiment_bert/predictions.json\n",
        "#!python3 evaluation.py --no-cuda False --output-dir /content/gdrive/MyDrive/master_hpi/NLP_Project/code/results/ -- skip_intrasentence False --skip_intersentence False --batch_size 1"
      ],
      "execution_count": null,
      "outputs": []
    },
    {
      "cell_type": "code",
      "metadata": {
        "id": "xeAEkHH3hQYk"
      },
      "source": [
        "!python3 /content/gdrive/MyDrive/master_hpi/NLP_Project/code/adapter_evaluation/score_evaluation.py --gold-file /content/gdrive/MyDrive/master_hpi/NLP_Project/code/dev.json --predictions-file /content/gdrive/MyDrive/master_hpi/NLP_Project/code/results/sentiment_bert/predictions.json --output-file /content/gdrive/MyDrive/master_hpi/NLP_Project/code/results/sentiment_bert/summary.json"
      ],
      "execution_count": null,
      "outputs": []
    },
    {
      "cell_type": "markdown",
      "metadata": {
        "id": "-7yU1c9ugamN"
      },
      "source": [
        "## SST Adapter\n"
      ]
    },
    {
      "cell_type": "code",
      "metadata": {
        "id": "Nsl9kUigiOxz"
      },
      "source": [
        "import os\n",
        "try:\n",
        "    os.makedirs('/content/gdrive/MyDrive/master_hpi/NLP_Project/code/results/sst/')\n",
        "except OSError as e:\n",
        "        pass"
      ],
      "execution_count": 7,
      "outputs": []
    },
    {
      "cell_type": "code",
      "metadata": {
        "colab": {
          "base_uri": "https://localhost:8080/"
        },
        "id": "ZYyEJ2uFW40w",
        "outputId": "3536cbba-992a-4494-8ab1-b62a91b8fca4"
      },
      "source": [
        "!python3 /content/gdrive/MyDrive/master_hpi/NLP_Project/code/adapter_evaluation/evaluation.py --load-path_model /content/gdrive/MyDrive/master_hpi/NLP_Project/code/models/sst/pytorch_model.bin --load-path_adapter /content/gdrive/MyDrive/master_hpi/NLP_Project/code/models/sst/pytorch_adapter.bin --input-file /content/gdrive/MyDrive/master_hpi/NLP_Project/code/dev.json --output-dir /content/gdrive/MyDrive/master_hpi/NLP_Project/code/results/sst/ --output-file /content/gdrive/MyDrive/master_hpi/NLP_Project/code/results/sst/predictions.json\n",
        "#!python3 evaluation.py --no-cuda False --output-dir /content/gdrive/MyDrive/master_hpi/NLP_Project/code/results/ -- skip_intrasentence False --skip_intersentence False --batch_size 1"
      ],
      "execution_count": 8,
      "outputs": [
        {
          "output_type": "stream",
          "text": [
            "Loading /content/gdrive/MyDrive/master_hpi/NLP_Project/code/dev.json...\n",
            "---------------------------------------------------------------\n",
            "\u001b[96m                     ARGUMENTS                 \u001b[0m\n",
            "\u001b[96mPretrained Model:\u001b[0m /content/gdrive/MyDrive/master_hpi/NLP_Project/code/models/sst/pytorch_model.bin\n",
            "\u001b[96mSkip Intrasentence:\u001b[0m False\n",
            "\u001b[96mSkip Intersentence:\u001b[0m False\n",
            "\u001b[96mBatch Size:\u001b[0m 1\n",
            "\u001b[96mMax Seq Length:\u001b[0m None\n",
            "\u001b[96mCUDA:\u001b[0m True\n",
            "---------------------------------------------------------------\n",
            "\n",
            "\u001b[94mEvaluating bias on intersentence tasks...\u001b[0m\n",
            "/usr/local/lib/python3.7/dist-packages/transformers/tokenization_utils_base.py:2160: FutureWarning: The `truncation_strategy` argument is deprecated and will be removed in a future version, use `truncation=True` to truncate examples to a max length. You can give a specific length with `max_length` (e.g. `max_length=45`) or leave max_length to None to truncate to the maximal input size of the model (e.g. 512 for Bert).  If you have pairs of inputs, you can give a specific truncation strategy selected among `truncation='only_first'` (will only truncate the first sentence in the pairs) `truncation='only_second'` (will only truncate the second sentence in the pairs) or `truncation='longest_first'` (will iteratively remove tokens from the longest sentence in the pairs).\n",
            "  FutureWarning,\n",
            "Maximum sequence length found: -inf\n",
            "Some weights of the model checkpoint at bert-base-uncased were not used when initializing BertModel: ['cls.predictions.transform.dense.weight', 'cls.seq_relationship.weight', 'cls.predictions.decoder.weight', 'cls.predictions.transform.LayerNorm.bias', 'cls.predictions.bias', 'cls.predictions.transform.LayerNorm.weight', 'cls.predictions.transform.dense.bias', 'cls.seq_relationship.bias']\n",
            "- This IS expected if you are initializing BertModel from the checkpoint of a model trained on another task or with another architecture (e.g. initializing a BertForSequenceClassification model from a BertForPreTraining model).\n",
            "- This IS NOT expected if you are initializing BertModel from the checkpoint of a model that you expect to be exactly identical (initializing a BertForSequenceClassification model from a BertForSequenceClassification model).\n",
            "Number of parameters: 109,483,778\n",
            "odict_keys(['bert.embeddings.position_ids', 'bert.embeddings.word_embeddings.weight', 'bert.embeddings.position_embeddings.weight', 'bert.embeddings.token_type_embeddings.weight', 'bert.embeddings.LayerNorm.weight', 'bert.embeddings.LayerNorm.bias', 'bert.encoder.layer.0.attention.self.query.weight', 'bert.encoder.layer.0.attention.self.query.bias', 'bert.encoder.layer.0.attention.self.key.weight', 'bert.encoder.layer.0.attention.self.key.bias', 'bert.encoder.layer.0.attention.self.value.weight', 'bert.encoder.layer.0.attention.self.value.bias', 'bert.encoder.layer.0.attention.output.dense.weight', 'bert.encoder.layer.0.attention.output.dense.bias', 'bert.encoder.layer.0.attention.output.LayerNorm.weight', 'bert.encoder.layer.0.attention.output.LayerNorm.bias', 'bert.encoder.layer.0.intermediate.dense.weight', 'bert.encoder.layer.0.intermediate.dense.bias', 'bert.encoder.layer.0.output.dense.weight', 'bert.encoder.layer.0.output.dense.bias', 'bert.encoder.layer.0.output.LayerNorm.weight', 'bert.encoder.layer.0.output.LayerNorm.bias', 'bert.encoder.layer.0.output.adapters.sst-2.adapter_down.0.weight', 'bert.encoder.layer.0.output.adapters.sst-2.adapter_down.0.bias', 'bert.encoder.layer.0.output.adapters.sst-2.adapter_up.weight', 'bert.encoder.layer.0.output.adapters.sst-2.adapter_up.bias', 'bert.encoder.layer.1.attention.self.query.weight', 'bert.encoder.layer.1.attention.self.query.bias', 'bert.encoder.layer.1.attention.self.key.weight', 'bert.encoder.layer.1.attention.self.key.bias', 'bert.encoder.layer.1.attention.self.value.weight', 'bert.encoder.layer.1.attention.self.value.bias', 'bert.encoder.layer.1.attention.output.dense.weight', 'bert.encoder.layer.1.attention.output.dense.bias', 'bert.encoder.layer.1.attention.output.LayerNorm.weight', 'bert.encoder.layer.1.attention.output.LayerNorm.bias', 'bert.encoder.layer.1.intermediate.dense.weight', 'bert.encoder.layer.1.intermediate.dense.bias', 'bert.encoder.layer.1.output.dense.weight', 'bert.encoder.layer.1.output.dense.bias', 'bert.encoder.layer.1.output.LayerNorm.weight', 'bert.encoder.layer.1.output.LayerNorm.bias', 'bert.encoder.layer.1.output.adapters.sst-2.adapter_down.0.weight', 'bert.encoder.layer.1.output.adapters.sst-2.adapter_down.0.bias', 'bert.encoder.layer.1.output.adapters.sst-2.adapter_up.weight', 'bert.encoder.layer.1.output.adapters.sst-2.adapter_up.bias', 'bert.encoder.layer.2.attention.self.query.weight', 'bert.encoder.layer.2.attention.self.query.bias', 'bert.encoder.layer.2.attention.self.key.weight', 'bert.encoder.layer.2.attention.self.key.bias', 'bert.encoder.layer.2.attention.self.value.weight', 'bert.encoder.layer.2.attention.self.value.bias', 'bert.encoder.layer.2.attention.output.dense.weight', 'bert.encoder.layer.2.attention.output.dense.bias', 'bert.encoder.layer.2.attention.output.LayerNorm.weight', 'bert.encoder.layer.2.attention.output.LayerNorm.bias', 'bert.encoder.layer.2.intermediate.dense.weight', 'bert.encoder.layer.2.intermediate.dense.bias', 'bert.encoder.layer.2.output.dense.weight', 'bert.encoder.layer.2.output.dense.bias', 'bert.encoder.layer.2.output.LayerNorm.weight', 'bert.encoder.layer.2.output.LayerNorm.bias', 'bert.encoder.layer.2.output.adapters.sst-2.adapter_down.0.weight', 'bert.encoder.layer.2.output.adapters.sst-2.adapter_down.0.bias', 'bert.encoder.layer.2.output.adapters.sst-2.adapter_up.weight', 'bert.encoder.layer.2.output.adapters.sst-2.adapter_up.bias', 'bert.encoder.layer.3.attention.self.query.weight', 'bert.encoder.layer.3.attention.self.query.bias', 'bert.encoder.layer.3.attention.self.key.weight', 'bert.encoder.layer.3.attention.self.key.bias', 'bert.encoder.layer.3.attention.self.value.weight', 'bert.encoder.layer.3.attention.self.value.bias', 'bert.encoder.layer.3.attention.output.dense.weight', 'bert.encoder.layer.3.attention.output.dense.bias', 'bert.encoder.layer.3.attention.output.LayerNorm.weight', 'bert.encoder.layer.3.attention.output.LayerNorm.bias', 'bert.encoder.layer.3.intermediate.dense.weight', 'bert.encoder.layer.3.intermediate.dense.bias', 'bert.encoder.layer.3.output.dense.weight', 'bert.encoder.layer.3.output.dense.bias', 'bert.encoder.layer.3.output.LayerNorm.weight', 'bert.encoder.layer.3.output.LayerNorm.bias', 'bert.encoder.layer.3.output.adapters.sst-2.adapter_down.0.weight', 'bert.encoder.layer.3.output.adapters.sst-2.adapter_down.0.bias', 'bert.encoder.layer.3.output.adapters.sst-2.adapter_up.weight', 'bert.encoder.layer.3.output.adapters.sst-2.adapter_up.bias', 'bert.encoder.layer.4.attention.self.query.weight', 'bert.encoder.layer.4.attention.self.query.bias', 'bert.encoder.layer.4.attention.self.key.weight', 'bert.encoder.layer.4.attention.self.key.bias', 'bert.encoder.layer.4.attention.self.value.weight', 'bert.encoder.layer.4.attention.self.value.bias', 'bert.encoder.layer.4.attention.output.dense.weight', 'bert.encoder.layer.4.attention.output.dense.bias', 'bert.encoder.layer.4.attention.output.LayerNorm.weight', 'bert.encoder.layer.4.attention.output.LayerNorm.bias', 'bert.encoder.layer.4.intermediate.dense.weight', 'bert.encoder.layer.4.intermediate.dense.bias', 'bert.encoder.layer.4.output.dense.weight', 'bert.encoder.layer.4.output.dense.bias', 'bert.encoder.layer.4.output.LayerNorm.weight', 'bert.encoder.layer.4.output.LayerNorm.bias', 'bert.encoder.layer.4.output.adapters.sst-2.adapter_down.0.weight', 'bert.encoder.layer.4.output.adapters.sst-2.adapter_down.0.bias', 'bert.encoder.layer.4.output.adapters.sst-2.adapter_up.weight', 'bert.encoder.layer.4.output.adapters.sst-2.adapter_up.bias', 'bert.encoder.layer.5.attention.self.query.weight', 'bert.encoder.layer.5.attention.self.query.bias', 'bert.encoder.layer.5.attention.self.key.weight', 'bert.encoder.layer.5.attention.self.key.bias', 'bert.encoder.layer.5.attention.self.value.weight', 'bert.encoder.layer.5.attention.self.value.bias', 'bert.encoder.layer.5.attention.output.dense.weight', 'bert.encoder.layer.5.attention.output.dense.bias', 'bert.encoder.layer.5.attention.output.LayerNorm.weight', 'bert.encoder.layer.5.attention.output.LayerNorm.bias', 'bert.encoder.layer.5.intermediate.dense.weight', 'bert.encoder.layer.5.intermediate.dense.bias', 'bert.encoder.layer.5.output.dense.weight', 'bert.encoder.layer.5.output.dense.bias', 'bert.encoder.layer.5.output.LayerNorm.weight', 'bert.encoder.layer.5.output.LayerNorm.bias', 'bert.encoder.layer.5.output.adapters.sst-2.adapter_down.0.weight', 'bert.encoder.layer.5.output.adapters.sst-2.adapter_down.0.bias', 'bert.encoder.layer.5.output.adapters.sst-2.adapter_up.weight', 'bert.encoder.layer.5.output.adapters.sst-2.adapter_up.bias', 'bert.encoder.layer.6.attention.self.query.weight', 'bert.encoder.layer.6.attention.self.query.bias', 'bert.encoder.layer.6.attention.self.key.weight', 'bert.encoder.layer.6.attention.self.key.bias', 'bert.encoder.layer.6.attention.self.value.weight', 'bert.encoder.layer.6.attention.self.value.bias', 'bert.encoder.layer.6.attention.output.dense.weight', 'bert.encoder.layer.6.attention.output.dense.bias', 'bert.encoder.layer.6.attention.output.LayerNorm.weight', 'bert.encoder.layer.6.attention.output.LayerNorm.bias', 'bert.encoder.layer.6.intermediate.dense.weight', 'bert.encoder.layer.6.intermediate.dense.bias', 'bert.encoder.layer.6.output.dense.weight', 'bert.encoder.layer.6.output.dense.bias', 'bert.encoder.layer.6.output.LayerNorm.weight', 'bert.encoder.layer.6.output.LayerNorm.bias', 'bert.encoder.layer.6.output.adapters.sst-2.adapter_down.0.weight', 'bert.encoder.layer.6.output.adapters.sst-2.adapter_down.0.bias', 'bert.encoder.layer.6.output.adapters.sst-2.adapter_up.weight', 'bert.encoder.layer.6.output.adapters.sst-2.adapter_up.bias', 'bert.encoder.layer.7.attention.self.query.weight', 'bert.encoder.layer.7.attention.self.query.bias', 'bert.encoder.layer.7.attention.self.key.weight', 'bert.encoder.layer.7.attention.self.key.bias', 'bert.encoder.layer.7.attention.self.value.weight', 'bert.encoder.layer.7.attention.self.value.bias', 'bert.encoder.layer.7.attention.output.dense.weight', 'bert.encoder.layer.7.attention.output.dense.bias', 'bert.encoder.layer.7.attention.output.LayerNorm.weight', 'bert.encoder.layer.7.attention.output.LayerNorm.bias', 'bert.encoder.layer.7.intermediate.dense.weight', 'bert.encoder.layer.7.intermediate.dense.bias', 'bert.encoder.layer.7.output.dense.weight', 'bert.encoder.layer.7.output.dense.bias', 'bert.encoder.layer.7.output.LayerNorm.weight', 'bert.encoder.layer.7.output.LayerNorm.bias', 'bert.encoder.layer.7.output.adapters.sst-2.adapter_down.0.weight', 'bert.encoder.layer.7.output.adapters.sst-2.adapter_down.0.bias', 'bert.encoder.layer.7.output.adapters.sst-2.adapter_up.weight', 'bert.encoder.layer.7.output.adapters.sst-2.adapter_up.bias', 'bert.encoder.layer.8.attention.self.query.weight', 'bert.encoder.layer.8.attention.self.query.bias', 'bert.encoder.layer.8.attention.self.key.weight', 'bert.encoder.layer.8.attention.self.key.bias', 'bert.encoder.layer.8.attention.self.value.weight', 'bert.encoder.layer.8.attention.self.value.bias', 'bert.encoder.layer.8.attention.output.dense.weight', 'bert.encoder.layer.8.attention.output.dense.bias', 'bert.encoder.layer.8.attention.output.LayerNorm.weight', 'bert.encoder.layer.8.attention.output.LayerNorm.bias', 'bert.encoder.layer.8.intermediate.dense.weight', 'bert.encoder.layer.8.intermediate.dense.bias', 'bert.encoder.layer.8.output.dense.weight', 'bert.encoder.layer.8.output.dense.bias', 'bert.encoder.layer.8.output.LayerNorm.weight', 'bert.encoder.layer.8.output.LayerNorm.bias', 'bert.encoder.layer.8.output.adapters.sst-2.adapter_down.0.weight', 'bert.encoder.layer.8.output.adapters.sst-2.adapter_down.0.bias', 'bert.encoder.layer.8.output.adapters.sst-2.adapter_up.weight', 'bert.encoder.layer.8.output.adapters.sst-2.adapter_up.bias', 'bert.encoder.layer.9.attention.self.query.weight', 'bert.encoder.layer.9.attention.self.query.bias', 'bert.encoder.layer.9.attention.self.key.weight', 'bert.encoder.layer.9.attention.self.key.bias', 'bert.encoder.layer.9.attention.self.value.weight', 'bert.encoder.layer.9.attention.self.value.bias', 'bert.encoder.layer.9.attention.output.dense.weight', 'bert.encoder.layer.9.attention.output.dense.bias', 'bert.encoder.layer.9.attention.output.LayerNorm.weight', 'bert.encoder.layer.9.attention.output.LayerNorm.bias', 'bert.encoder.layer.9.intermediate.dense.weight', 'bert.encoder.layer.9.intermediate.dense.bias', 'bert.encoder.layer.9.output.dense.weight', 'bert.encoder.layer.9.output.dense.bias', 'bert.encoder.layer.9.output.LayerNorm.weight', 'bert.encoder.layer.9.output.LayerNorm.bias', 'bert.encoder.layer.9.output.adapters.sst-2.adapter_down.0.weight', 'bert.encoder.layer.9.output.adapters.sst-2.adapter_down.0.bias', 'bert.encoder.layer.9.output.adapters.sst-2.adapter_up.weight', 'bert.encoder.layer.9.output.adapters.sst-2.adapter_up.bias', 'bert.encoder.layer.10.attention.self.query.weight', 'bert.encoder.layer.10.attention.self.query.bias', 'bert.encoder.layer.10.attention.self.key.weight', 'bert.encoder.layer.10.attention.self.key.bias', 'bert.encoder.layer.10.attention.self.value.weight', 'bert.encoder.layer.10.attention.self.value.bias', 'bert.encoder.layer.10.attention.output.dense.weight', 'bert.encoder.layer.10.attention.output.dense.bias', 'bert.encoder.layer.10.attention.output.LayerNorm.weight', 'bert.encoder.layer.10.attention.output.LayerNorm.bias', 'bert.encoder.layer.10.intermediate.dense.weight', 'bert.encoder.layer.10.intermediate.dense.bias', 'bert.encoder.layer.10.output.dense.weight', 'bert.encoder.layer.10.output.dense.bias', 'bert.encoder.layer.10.output.LayerNorm.weight', 'bert.encoder.layer.10.output.LayerNorm.bias', 'bert.encoder.layer.10.output.adapters.sst-2.adapter_down.0.weight', 'bert.encoder.layer.10.output.adapters.sst-2.adapter_down.0.bias', 'bert.encoder.layer.10.output.adapters.sst-2.adapter_up.weight', 'bert.encoder.layer.10.output.adapters.sst-2.adapter_up.bias', 'bert.encoder.layer.11.attention.self.query.weight', 'bert.encoder.layer.11.attention.self.query.bias', 'bert.encoder.layer.11.attention.self.key.weight', 'bert.encoder.layer.11.attention.self.key.bias', 'bert.encoder.layer.11.attention.self.value.weight', 'bert.encoder.layer.11.attention.self.value.bias', 'bert.encoder.layer.11.attention.output.dense.weight', 'bert.encoder.layer.11.attention.output.dense.bias', 'bert.encoder.layer.11.attention.output.LayerNorm.weight', 'bert.encoder.layer.11.attention.output.LayerNorm.bias', 'bert.encoder.layer.11.intermediate.dense.weight', 'bert.encoder.layer.11.intermediate.dense.bias', 'bert.encoder.layer.11.output.dense.weight', 'bert.encoder.layer.11.output.dense.bias', 'bert.encoder.layer.11.output.LayerNorm.weight', 'bert.encoder.layer.11.output.LayerNorm.bias', 'bert.encoder.layer.11.output.adapters.sst-2.adapter_down.0.weight', 'bert.encoder.layer.11.output.adapters.sst-2.adapter_down.0.bias', 'bert.encoder.layer.11.output.adapters.sst-2.adapter_up.weight', 'bert.encoder.layer.11.output.adapters.sst-2.adapter_up.bias', 'bert.pooler.dense.weight', 'bert.pooler.dense.bias', 'classifier.weight', 'classifier.bias'])\n",
            "100% 6369/6369 [02:27<00:00, 43.30it/s]\n",
            "\n",
            "\u001b[91mEvaluating bias on intrasentence tasks...\u001b[0m\n",
            "Some weights of the model checkpoint at bert-base-uncased were not used when initializing BertModel: ['cls.predictions.transform.dense.weight', 'cls.seq_relationship.weight', 'cls.predictions.decoder.weight', 'cls.predictions.transform.LayerNorm.bias', 'cls.predictions.bias', 'cls.predictions.transform.LayerNorm.weight', 'cls.predictions.transform.dense.bias', 'cls.seq_relationship.bias']\n",
            "- This IS expected if you are initializing BertModel from the checkpoint of a model trained on another task or with another architecture (e.g. initializing a BertForSequenceClassification model from a BertForPreTraining model).\n",
            "- This IS NOT expected if you are initializing BertModel from the checkpoint of a model that you expect to be exactly identical (initializing a BertForSequenceClassification model from a BertForSequenceClassification model).\n",
            "Number of parameters: 109,483,778\n",
            "/usr/local/lib/python3.7/dist-packages/transformers/tokenization_utils_base.py:2132: FutureWarning: The `pad_to_max_length` argument is deprecated and will be removed in a future version, use `padding=True` or `padding='longest'` to pad to the longest sequence in the batch, or use `padding='max_length'` to pad to a max length. In this case, you can give a specific length with `max_length` (e.g. `max_length=45`) or leave max_length to None to pad to the maximal input size of the model (e.g. 512 for Bert).\n",
            "  FutureWarning,\n",
            "/usr/local/lib/python3.7/dist-packages/transformers/tokenization_utils_base.py:2132: FutureWarning: The `pad_to_max_length` argument is deprecated and will be removed in a future version, use `padding=True` or `padding='longest'` to pad to the longest sequence in the batch, or use `padding='max_length'` to pad to a max length. In this case, you can give a specific length with `max_length` (e.g. `max_length=45`) or leave max_length to None to pad to the maximal input size of the model (e.g. 512 for Bert).\n",
            "  FutureWarning,\n",
            "/usr/local/lib/python3.7/dist-packages/transformers/tokenization_utils_base.py:2132: FutureWarning: The `pad_to_max_length` argument is deprecated and will be removed in a future version, use `padding=True` or `padding='longest'` to pad to the longest sequence in the batch, or use `padding='max_length'` to pad to a max length. In this case, you can give a specific length with `max_length` (e.g. `max_length=45`) or leave max_length to None to pad to the maximal input size of the model (e.g. 512 for Bert).\n",
            "  FutureWarning,\n",
            "/usr/local/lib/python3.7/dist-packages/transformers/tokenization_utils_base.py:2132: FutureWarning: The `pad_to_max_length` argument is deprecated and will be removed in a future version, use `padding=True` or `padding='longest'` to pad to the longest sequence in the batch, or use `padding='max_length'` to pad to a max length. In this case, you can give a specific length with `max_length` (e.g. `max_length=45`) or leave max_length to None to pad to the maximal input size of the model (e.g. 512 for Bert).\n",
            "  FutureWarning,\n",
            "/usr/local/lib/python3.7/dist-packages/transformers/tokenization_utils_base.py:2132: FutureWarning: The `pad_to_max_length` argument is deprecated and will be removed in a future version, use `padding=True` or `padding='longest'` to pad to the longest sequence in the batch, or use `padding='max_length'` to pad to a max length. In this case, you can give a specific length with `max_length` (e.g. `max_length=45`) or leave max_length to None to pad to the maximal input size of the model (e.g. 512 for Bert).\n",
            "  FutureWarning,\n",
            "100% 6318/6318 [02:28<00:00, 42.67it/s]\n"
          ],
          "name": "stdout"
        }
      ]
    },
    {
      "cell_type": "code",
      "metadata": {
        "id": "tDw_upEajSLL",
        "colab": {
          "base_uri": "https://localhost:8080/"
        },
        "outputId": "d568c3dd-7e48-4596-dfb4-3e44156d05bc"
      },
      "source": [
        "!python3 /content/gdrive/MyDrive/master_hpi/NLP_Project/code/adapter_evaluation/score_evaluation.py --gold-file /content/gdrive/MyDrive/master_hpi/NLP_Project/code/dev.json --predictions-file /content/gdrive/MyDrive/master_hpi/NLP_Project/code/results/sst/predictions.json --output-file /content/gdrive/MyDrive/master_hpi/NLP_Project/code/results/sst/summary.json"
      ],
      "execution_count": 9,
      "outputs": [
        {
          "output_type": "stream",
          "text": [
            "intrasentence\n",
            "\tgender\n",
            "\t\tCount: 765.0\n",
            "\t\tLM Score: 35.440731168992045\n",
            "\t\tSS Score: 37.9227178618483\n",
            "\t\tICAT Score: 26.88017697878597\n",
            "\tprofession\n",
            "\t\tCount: 2430.0\n",
            "\t\tLM Score: 44.79049799491887\n",
            "\t\tSS Score: 47.82331494377931\n",
            "\t\tICAT Score: 42.84060184199442\n",
            "\trace\n",
            "\t\tCount: 2886.0\n",
            "\t\tLM Score: 50.171562469732606\n",
            "\t\tSS Score: 49.5311148055636\n",
            "\t\tICAT Score: 49.701068413256635\n",
            "\treligion\n",
            "\t\tCount: 237.0\n",
            "\t\tLM Score: 49.05747126436781\n",
            "\t\tSS Score: 43.72413793103448\n",
            "\t\tICAT Score: 42.899912802219575\n",
            "\toverall\n",
            "\t\tCount: 2106.0\n",
            "\t\tLM Score: 46.22115081317676\n",
            "\t\tSS Score: 47.19264776867412\n",
            "\t\tICAT Score: 43.62596979578033\n",
            "intersentence\n",
            "\tgender\n",
            "\t\tCount: 726.0\n",
            "\t\tLM Score: 35.99794730229513\n",
            "\t\tSS Score: 50.83552317247969\n",
            "\t\tICAT Score: 35.39640491963972\n",
            "\tprofession\n",
            "\t\tCount: 2481.0\n",
            "\t\tLM Score: 38.67364525503198\n",
            "\t\tSS Score: 50.43127950614045\n",
            "\t\tICAT Score: 38.34006224250716\n",
            "\trace\n",
            "\t\tCount: 2928.0\n",
            "\t\tLM Score: 46.431638221922185\n",
            "\t\tSS Score: 53.34035055600684\n",
            "\t\tICAT Score: 43.329679250904064\n",
            "\treligion\n",
            "\t\tCount: 234.0\n",
            "\t\tLM Score: 48.92241379310345\n",
            "\t\tSS Score: 52.814176245210724\n",
            "\t\tICAT Score: 46.168887898005025\n",
            "\toverall\n",
            "\t\tCount: 2123.0\n",
            "\t\tLM Score: 42.25943098787873\n",
            "\t\tSS Score: 51.898591970390996\n",
            "\t\tICAT Score: 40.65476266094115\n",
            "overall\n",
            "\tCount: 4229.0\n",
            "\tLM Score: 44.2158649688646\n",
            "\tSS Score: 49.542436260737105\n",
            "\tICAT Score: 43.81123343866666\n"
          ],
          "name": "stdout"
        }
      ]
    },
    {
      "cell_type": "code",
      "metadata": {
        "id": "sFZPbqQnfV-v"
      },
      "source": [
        ""
      ],
      "execution_count": null,
      "outputs": []
    },
    {
      "cell_type": "code",
      "metadata": {
        "id": "ETdyP4Ijgm-0"
      },
      "source": [
        ""
      ],
      "execution_count": null,
      "outputs": []
    }
  ]
}