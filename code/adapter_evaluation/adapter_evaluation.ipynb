{
  "nbformat": 4,
  "nbformat_minor": 0,
  "metadata": {
    "colab": {
      "name": "adapter_evaluation.ipynb",
      "provenance": [],
      "collapsed_sections": []
    },
    "kernelspec": {
      "name": "python3",
      "display_name": "Python 3"
    },
    "language_info": {
      "name": "python"
    },
    "accelerator": "GPU"
  },
  "cells": [
    {
      "cell_type": "code",
      "metadata": {
        "id": "gqFl7uUVgEz7"
      },
      "source": [
        "%load_ext autoreload\n",
        "%autoreload 2"
      ],
      "execution_count": 1,
      "outputs": []
    },
    {
      "cell_type": "code",
      "metadata": {
        "colab": {
          "base_uri": "https://localhost:8080/"
        },
        "id": "mthG05Ijv6SZ",
        "outputId": "1cdb437d-fa66-44c6-ab5b-ae4f0064feeb"
      },
      "source": [
        "gpu_info = !nvidia-smi\n",
        "gpu_info = '\\n'.join(gpu_info)\n",
        "if gpu_info.find('failed') >= 0:\n",
        "  print('Select the Runtime > \"Change runtime type\" menu to enable a GPU accelerator, ')\n",
        "  print('and then re-execute this cell.')\n",
        "else:\n",
        "  print(gpu_info)"
      ],
      "execution_count": 2,
      "outputs": [
        {
          "output_type": "stream",
          "text": [
            "Fri Aug  6 13:12:58 2021       \n",
            "+-----------------------------------------------------------------------------+\n",
            "| NVIDIA-SMI 470.42.01    Driver Version: 460.32.03    CUDA Version: 11.2     |\n",
            "|-------------------------------+----------------------+----------------------+\n",
            "| GPU  Name        Persistence-M| Bus-Id        Disp.A | Volatile Uncorr. ECC |\n",
            "| Fan  Temp  Perf  Pwr:Usage/Cap|         Memory-Usage | GPU-Util  Compute M. |\n",
            "|                               |                      |               MIG M. |\n",
            "|===============================+======================+======================|\n",
            "|   0  Tesla T4            Off  | 00000000:00:04.0 Off |                    0 |\n",
            "| N/A   49C    P8    10W /  70W |      0MiB / 15109MiB |      0%      Default |\n",
            "|                               |                      |                  N/A |\n",
            "+-------------------------------+----------------------+----------------------+\n",
            "                                                                               \n",
            "+-----------------------------------------------------------------------------+\n",
            "| Processes:                                                                  |\n",
            "|  GPU   GI   CI        PID   Type   Process name                  GPU Memory |\n",
            "|        ID   ID                                                   Usage      |\n",
            "|=============================================================================|\n",
            "|  No running processes found                                                 |\n",
            "+-----------------------------------------------------------------------------+\n"
          ],
          "name": "stdout"
        }
      ]
    },
    {
      "cell_type": "code",
      "metadata": {
        "colab": {
          "base_uri": "https://localhost:8080/"
        },
        "id": "9SyR5EK-hsOv",
        "outputId": "f2defe3d-b321-45ac-8a90-1969a19ecf95"
      },
      "source": [
        "from google.colab import drive\n",
        "drive.mount(\"/content/gdrive/\", force_remount=True)"
      ],
      "execution_count": 3,
      "outputs": [
        {
          "output_type": "stream",
          "text": [
            "Mounted at /content/gdrive/\n"
          ],
          "name": "stdout"
        }
      ]
    },
    {
      "cell_type": "code",
      "metadata": {
        "colab": {
          "base_uri": "https://localhost:8080/",
          "height": 1000
        },
        "id": "julO5QKjnRTA",
        "outputId": "66037d37-35f8-4f28-bf99-414668110650"
      },
      "source": [
        "!pip install -U git+https://github.com/Adapter-Hub/adapter-transformers.git\n",
        "#!pip install transformers==3.0.2\n",
        "!pip3 install -r /content/gdrive/MyDrive/master_hpi/NLP_Project/requirements.txt"
      ],
      "execution_count": 4,
      "outputs": [
        {
          "output_type": "stream",
          "text": [
            "Collecting git+https://github.com/Adapter-Hub/adapter-transformers.git\n",
            "  Cloning https://github.com/Adapter-Hub/adapter-transformers.git to /tmp/pip-req-build-fxcykpki\n",
            "  Running command git clone -q https://github.com/Adapter-Hub/adapter-transformers.git /tmp/pip-req-build-fxcykpki\n",
            "  Installing build dependencies ... \u001b[?25l\u001b[?25hdone\n",
            "  Getting requirements to build wheel ... \u001b[?25l\u001b[?25hdone\n",
            "    Preparing wheel metadata ... \u001b[?25l\u001b[?25hdone\n",
            "Collecting sacremoses\n",
            "  Downloading sacremoses-0.0.45-py3-none-any.whl (895 kB)\n",
            "\u001b[K     |████████████████████████████████| 895 kB 7.4 MB/s \n",
            "\u001b[?25hRequirement already satisfied: numpy>=1.17 in /usr/local/lib/python3.7/dist-packages (from adapter-transformers==2.1.2) (1.19.5)\n",
            "Collecting huggingface-hub>=0.0.14\n",
            "  Downloading huggingface_hub-0.0.15-py3-none-any.whl (43 kB)\n",
            "\u001b[K     |████████████████████████████████| 43 kB 2.3 MB/s \n",
            "\u001b[?25hRequirement already satisfied: filelock in /usr/local/lib/python3.7/dist-packages (from adapter-transformers==2.1.2) (3.0.12)\n",
            "Requirement already satisfied: importlib-metadata in /usr/local/lib/python3.7/dist-packages (from adapter-transformers==2.1.2) (4.6.1)\n",
            "Requirement already satisfied: pyyaml in /usr/local/lib/python3.7/dist-packages (from adapter-transformers==2.1.2) (3.13)\n",
            "Collecting tokenizers<0.11,>=0.10.1\n",
            "  Downloading tokenizers-0.10.3-cp37-cp37m-manylinux_2_5_x86_64.manylinux1_x86_64.manylinux_2_12_x86_64.manylinux2010_x86_64.whl (3.3 MB)\n",
            "\u001b[K     |████████████████████████████████| 3.3 MB 38.8 MB/s \n",
            "\u001b[?25hRequirement already satisfied: requests in /usr/local/lib/python3.7/dist-packages (from adapter-transformers==2.1.2) (2.23.0)\n",
            "Requirement already satisfied: packaging in /usr/local/lib/python3.7/dist-packages (from adapter-transformers==2.1.2) (21.0)\n",
            "Requirement already satisfied: tqdm>=4.27 in /usr/local/lib/python3.7/dist-packages (from adapter-transformers==2.1.2) (4.41.1)\n",
            "Requirement already satisfied: regex!=2019.12.17 in /usr/local/lib/python3.7/dist-packages (from adapter-transformers==2.1.2) (2019.12.20)\n",
            "Requirement already satisfied: typing-extensions in /usr/local/lib/python3.7/dist-packages (from huggingface-hub>=0.0.14->adapter-transformers==2.1.2) (3.7.4.3)\n",
            "Requirement already satisfied: pyparsing>=2.0.2 in /usr/local/lib/python3.7/dist-packages (from packaging->adapter-transformers==2.1.2) (2.4.7)\n",
            "Requirement already satisfied: zipp>=0.5 in /usr/local/lib/python3.7/dist-packages (from importlib-metadata->adapter-transformers==2.1.2) (3.5.0)\n",
            "Requirement already satisfied: chardet<4,>=3.0.2 in /usr/local/lib/python3.7/dist-packages (from requests->adapter-transformers==2.1.2) (3.0.4)\n",
            "Requirement already satisfied: idna<3,>=2.5 in /usr/local/lib/python3.7/dist-packages (from requests->adapter-transformers==2.1.2) (2.10)\n",
            "Requirement already satisfied: urllib3!=1.25.0,!=1.25.1,<1.26,>=1.21.1 in /usr/local/lib/python3.7/dist-packages (from requests->adapter-transformers==2.1.2) (1.24.3)\n",
            "Requirement already satisfied: certifi>=2017.4.17 in /usr/local/lib/python3.7/dist-packages (from requests->adapter-transformers==2.1.2) (2021.5.30)\n",
            "Requirement already satisfied: six in /usr/local/lib/python3.7/dist-packages (from sacremoses->adapter-transformers==2.1.2) (1.15.0)\n",
            "Requirement already satisfied: joblib in /usr/local/lib/python3.7/dist-packages (from sacremoses->adapter-transformers==2.1.2) (1.0.1)\n",
            "Requirement already satisfied: click in /usr/local/lib/python3.7/dist-packages (from sacremoses->adapter-transformers==2.1.2) (7.1.2)\n",
            "Building wheels for collected packages: adapter-transformers\n",
            "  Building wheel for adapter-transformers (PEP 517) ... \u001b[?25l\u001b[?25hdone\n",
            "  Created wheel for adapter-transformers: filename=adapter_transformers-2.1.2-py3-none-any.whl size=2539220 sha256=55fc6da0c802b600d9fe7db654207397437ae4a6df03b7e65a577c97b174c97d\n",
            "  Stored in directory: /tmp/pip-ephem-wheel-cache-tytjn5j8/wheels/60/0e/d5/86e64fef3085f149b504f48af9ca6e8f6da427f42da9b4bbe5\n",
            "Successfully built adapter-transformers\n",
            "Installing collected packages: tokenizers, sacremoses, huggingface-hub, adapter-transformers\n",
            "Successfully installed adapter-transformers-2.1.2 huggingface-hub-0.0.15 sacremoses-0.0.45 tokenizers-0.10.3\n",
            "Requirement already satisfied: blis==0.4.1 in /usr/local/lib/python3.7/dist-packages (from -r /content/gdrive/MyDrive/master_hpi/NLP_Project/requirements.txt (line 1)) (0.4.1)\n",
            "Collecting boto3==1.12.36\n",
            "  Downloading boto3-1.12.36-py2.py3-none-any.whl (128 kB)\n",
            "\u001b[K     |████████████████████████████████| 128 kB 7.6 MB/s \n",
            "\u001b[?25hCollecting botocore==1.15.36\n",
            "  Downloading botocore-1.15.36-py2.py3-none-any.whl (6.1 MB)\n",
            "\u001b[K     |████████████████████████████████| 6.1 MB 18.8 MB/s \n",
            "\u001b[?25hRequirement already satisfied: catalogue==1.0.0 in /usr/local/lib/python3.7/dist-packages (from -r /content/gdrive/MyDrive/master_hpi/NLP_Project/requirements.txt (line 4)) (1.0.0)\n",
            "Collecting certifi==2019.11.28\n",
            "  Downloading certifi-2019.11.28-py2.py3-none-any.whl (156 kB)\n",
            "\u001b[K     |████████████████████████████████| 156 kB 65.7 MB/s \n",
            "\u001b[?25hRequirement already satisfied: chardet==3.0.4 in /usr/local/lib/python3.7/dist-packages (from -r /content/gdrive/MyDrive/master_hpi/NLP_Project/requirements.txt (line 6)) (3.0.4)\n",
            "Collecting click==7.1.1\n",
            "  Downloading click-7.1.1-py2.py3-none-any.whl (82 kB)\n",
            "\u001b[K     |████████████████████████████████| 82 kB 1.5 MB/s \n",
            "\u001b[?25hCollecting colorama==0.4.3\n",
            "  Downloading colorama-0.4.3-py2.py3-none-any.whl (15 kB)\n",
            "Collecting cymem==2.0.3\n",
            "  Downloading cymem-2.0.3-cp37-cp37m-manylinux1_x86_64.whl (32 kB)\n",
            "Collecting docutils==0.15.2\n",
            "  Downloading docutils-0.15.2-py3-none-any.whl (547 kB)\n",
            "\u001b[K     |████████████████████████████████| 547 kB 63.1 MB/s \n",
            "\u001b[?25hRequirement already satisfied: en-core-web-sm==2.2.5 in /usr/local/lib/python3.7/dist-packages (from -r /content/gdrive/MyDrive/master_hpi/NLP_Project/requirements.txt (line 11)) (2.2.5)\n",
            "Requirement already satisfied: filelock==3.0.12 in /usr/local/lib/python3.7/dist-packages (from -r /content/gdrive/MyDrive/master_hpi/NLP_Project/requirements.txt (line 12)) (3.0.12)\n",
            "Collecting idna==2.9\n",
            "  Downloading idna-2.9-py2.py3-none-any.whl (58 kB)\n",
            "\u001b[K     |████████████████████████████████| 58 kB 7.3 MB/s \n",
            "\u001b[?25hCollecting importlib-metadata==1.6.0\n",
            "  Downloading importlib_metadata-1.6.0-py2.py3-none-any.whl (30 kB)\n",
            "Collecting jmespath==0.9.5\n",
            "  Downloading jmespath-0.9.5-py2.py3-none-any.whl (24 kB)\n",
            "Collecting joblib==0.14.1\n",
            "  Downloading joblib-0.14.1-py2.py3-none-any.whl (294 kB)\n",
            "\u001b[K     |████████████████████████████████| 294 kB 75.2 MB/s \n",
            "\u001b[?25hCollecting murmurhash==1.0.2\n",
            "  Downloading murmurhash-1.0.2-cp37-cp37m-manylinux1_x86_64.whl (19 kB)\n",
            "Requirement already satisfied: plac==1.1.3 in /usr/local/lib/python3.7/dist-packages (from -r /content/gdrive/MyDrive/master_hpi/NLP_Project/requirements.txt (line 18)) (1.1.3)\n",
            "Collecting preshed==3.0.2\n",
            "  Downloading preshed-3.0.2-cp37-cp37m-manylinux1_x86_64.whl (118 kB)\n",
            "\u001b[K     |████████████████████████████████| 118 kB 72.7 MB/s \n",
            "\u001b[?25hRequirement already satisfied: python-dateutil==2.8.1 in /usr/local/lib/python3.7/dist-packages (from -r /content/gdrive/MyDrive/master_hpi/NLP_Project/requirements.txt (line 20)) (2.8.1)\n",
            "Collecting pytz==2019.3\n",
            "  Downloading pytz-2019.3-py2.py3-none-any.whl (509 kB)\n",
            "\u001b[K     |████████████████████████████████| 509 kB 63.2 MB/s \n",
            "\u001b[?25hCollecting regex==2020.2.20\n",
            "  Downloading regex-2020.2.20-cp37-cp37m-manylinux2010_x86_64.whl (689 kB)\n",
            "\u001b[K     |████████████████████████████████| 689 kB 56.0 MB/s \n",
            "\u001b[?25hRequirement already satisfied: requests in /usr/local/lib/python3.7/dist-packages (from -r /content/gdrive/MyDrive/master_hpi/NLP_Project/requirements.txt (line 23)) (2.23.0)\n",
            "Collecting s3transfer==0.3.3\n",
            "  Downloading s3transfer-0.3.3-py2.py3-none-any.whl (69 kB)\n",
            "\u001b[K     |████████████████████████████████| 69 kB 9.3 MB/s \n",
            "\u001b[?25hCollecting sacremoses==0.0.38\n",
            "  Downloading sacremoses-0.0.38.tar.gz (860 kB)\n",
            "\u001b[K     |████████████████████████████████| 860 kB 55.8 MB/s \n",
            "\u001b[?25hRequirement already satisfied: scikit-learn==0.22.2.post1 in /usr/local/lib/python3.7/dist-packages (from -r /content/gdrive/MyDrive/master_hpi/NLP_Project/requirements.txt (line 26)) (0.22.2.post1)\n",
            "Requirement already satisfied: scipy==1.4.1 in /usr/local/lib/python3.7/dist-packages (from -r /content/gdrive/MyDrive/master_hpi/NLP_Project/requirements.txt (line 27)) (1.4.1)\n",
            "Collecting sentencepiece==0.1.85\n",
            "  Downloading sentencepiece-0.1.85-cp37-cp37m-manylinux1_x86_64.whl (1.0 MB)\n",
            "\u001b[K     |████████████████████████████████| 1.0 MB 34.0 MB/s \n",
            "\u001b[?25hCollecting six==1.14.0\n",
            "  Downloading six-1.14.0-py2.py3-none-any.whl (10 kB)\n",
            "Requirement already satisfied: sklearn==0.0 in /usr/local/lib/python3.7/dist-packages (from -r /content/gdrive/MyDrive/master_hpi/NLP_Project/requirements.txt (line 30)) (0.0)\n",
            "Requirement already satisfied: spacy==2.2.4 in /usr/local/lib/python3.7/dist-packages (from -r /content/gdrive/MyDrive/master_hpi/NLP_Project/requirements.txt (line 31)) (2.2.4)\n",
            "Collecting srsly==1.0.2\n",
            "  Downloading srsly-1.0.2-cp37-cp37m-manylinux1_x86_64.whl (185 kB)\n",
            "\u001b[K     |████████████████████████████████| 185 kB 74.9 MB/s \n",
            "\u001b[?25hRequirement already satisfied: thinc==7.4.0 in /usr/local/lib/python3.7/dist-packages (from -r /content/gdrive/MyDrive/master_hpi/NLP_Project/requirements.txt (line 33)) (7.4.0)\n",
            "Collecting torch==1.6.0\n",
            "  Downloading torch-1.6.0-cp37-cp37m-manylinux1_x86_64.whl (748.8 MB)\n",
            "\u001b[K     |████████████████████████████████| 748.8 MB 18 kB/s \n",
            "\u001b[?25hCollecting tqdm==4.45.0\n",
            "  Downloading tqdm-4.45.0-py2.py3-none-any.whl (60 kB)\n",
            "\u001b[K     |████████████████████████████████| 60 kB 8.9 MB/s \n",
            "\u001b[?25hCollecting urllib3==1.25.8\n",
            "  Downloading urllib3-1.25.8-py2.py3-none-any.whl (125 kB)\n",
            "\u001b[K     |████████████████████████████████| 125 kB 806 kB/s \n",
            "\u001b[?25hCollecting wasabi==0.6.0\n",
            "  Downloading wasabi-0.6.0-py3-none-any.whl (20 kB)\n",
            "Collecting zipp==3.1.0\n",
            "  Downloading zipp-3.1.0-py3-none-any.whl (4.9 kB)\n",
            "Requirement already satisfied: numpy>=1.15.0 in /usr/local/lib/python3.7/dist-packages (from blis==0.4.1->-r /content/gdrive/MyDrive/master_hpi/NLP_Project/requirements.txt (line 1)) (1.19.5)\n",
            "Requirement already satisfied: setuptools in /usr/local/lib/python3.7/dist-packages (from spacy==2.2.4->-r /content/gdrive/MyDrive/master_hpi/NLP_Project/requirements.txt (line 31)) (57.2.0)\n",
            "Requirement already satisfied: future in /usr/local/lib/python3.7/dist-packages (from torch==1.6.0->-r /content/gdrive/MyDrive/master_hpi/NLP_Project/requirements.txt (line 34)) (0.16.0)\n",
            "Building wheels for collected packages: sacremoses\n",
            "  Building wheel for sacremoses (setup.py) ... \u001b[?25l\u001b[?25hdone\n",
            "  Created wheel for sacremoses: filename=sacremoses-0.0.38-py3-none-any.whl size=884621 sha256=91bb3251301f6c6b67eb3eb69c13ed9db1c119394b7b0ff8c8cbd5500fcc8887\n",
            "  Stored in directory: /root/.cache/pip/wheels/99/c9/5a/a5e36bce983040ea5061a8ec65b5852bfebad4b1afa8d5b394\n",
            "Successfully built sacremoses\n",
            "Installing collected packages: zipp, six, murmurhash, importlib-metadata, cymem, wasabi, urllib3, tqdm, srsly, preshed, jmespath, idna, docutils, certifi, joblib, botocore, s3transfer, regex, click, torch, sentencepiece, sacremoses, pytz, colorama, boto3\n",
            "  Attempting uninstall: zipp\n",
            "    Found existing installation: zipp 3.5.0\n",
            "    Uninstalling zipp-3.5.0:\n",
            "      Successfully uninstalled zipp-3.5.0\n",
            "  Attempting uninstall: six\n",
            "    Found existing installation: six 1.15.0\n",
            "    Uninstalling six-1.15.0:\n",
            "      Successfully uninstalled six-1.15.0\n",
            "  Attempting uninstall: murmurhash\n",
            "    Found existing installation: murmurhash 1.0.5\n",
            "    Uninstalling murmurhash-1.0.5:\n",
            "      Successfully uninstalled murmurhash-1.0.5\n",
            "  Attempting uninstall: importlib-metadata\n",
            "    Found existing installation: importlib-metadata 4.6.1\n",
            "    Uninstalling importlib-metadata-4.6.1:\n",
            "      Successfully uninstalled importlib-metadata-4.6.1\n",
            "  Attempting uninstall: cymem\n",
            "    Found existing installation: cymem 2.0.5\n",
            "    Uninstalling cymem-2.0.5:\n",
            "      Successfully uninstalled cymem-2.0.5\n",
            "  Attempting uninstall: wasabi\n",
            "    Found existing installation: wasabi 0.8.2\n",
            "    Uninstalling wasabi-0.8.2:\n",
            "      Successfully uninstalled wasabi-0.8.2\n",
            "  Attempting uninstall: urllib3\n",
            "    Found existing installation: urllib3 1.24.3\n",
            "    Uninstalling urllib3-1.24.3:\n",
            "      Successfully uninstalled urllib3-1.24.3\n",
            "  Attempting uninstall: tqdm\n",
            "    Found existing installation: tqdm 4.41.1\n",
            "    Uninstalling tqdm-4.41.1:\n",
            "      Successfully uninstalled tqdm-4.41.1\n",
            "  Attempting uninstall: srsly\n",
            "    Found existing installation: srsly 1.0.5\n",
            "    Uninstalling srsly-1.0.5:\n",
            "      Successfully uninstalled srsly-1.0.5\n",
            "  Attempting uninstall: preshed\n",
            "    Found existing installation: preshed 3.0.5\n",
            "    Uninstalling preshed-3.0.5:\n",
            "      Successfully uninstalled preshed-3.0.5\n",
            "  Attempting uninstall: idna\n",
            "    Found existing installation: idna 2.10\n",
            "    Uninstalling idna-2.10:\n",
            "      Successfully uninstalled idna-2.10\n",
            "  Attempting uninstall: docutils\n",
            "    Found existing installation: docutils 0.17.1\n",
            "    Uninstalling docutils-0.17.1:\n",
            "      Successfully uninstalled docutils-0.17.1\n",
            "  Attempting uninstall: certifi\n",
            "    Found existing installation: certifi 2021.5.30\n",
            "    Uninstalling certifi-2021.5.30:\n",
            "      Successfully uninstalled certifi-2021.5.30\n",
            "  Attempting uninstall: joblib\n",
            "    Found existing installation: joblib 1.0.1\n",
            "    Uninstalling joblib-1.0.1:\n",
            "      Successfully uninstalled joblib-1.0.1\n",
            "  Attempting uninstall: regex\n",
            "    Found existing installation: regex 2019.12.20\n",
            "    Uninstalling regex-2019.12.20:\n",
            "      Successfully uninstalled regex-2019.12.20\n",
            "  Attempting uninstall: click\n",
            "    Found existing installation: click 7.1.2\n",
            "    Uninstalling click-7.1.2:\n",
            "      Successfully uninstalled click-7.1.2\n",
            "  Attempting uninstall: torch\n",
            "    Found existing installation: torch 1.9.0+cu102\n",
            "    Uninstalling torch-1.9.0+cu102:\n",
            "      Successfully uninstalled torch-1.9.0+cu102\n",
            "  Attempting uninstall: sacremoses\n",
            "    Found existing installation: sacremoses 0.0.45\n",
            "    Uninstalling sacremoses-0.0.45:\n",
            "      Successfully uninstalled sacremoses-0.0.45\n",
            "  Attempting uninstall: pytz\n",
            "    Found existing installation: pytz 2018.9\n",
            "    Uninstalling pytz-2018.9:\n",
            "      Successfully uninstalled pytz-2018.9\n",
            "\u001b[31mERROR: pip's dependency resolver does not currently take into account all the packages that are installed. This behaviour is the source of the following dependency conflicts.\n",
            "torchvision 0.10.0+cu102 requires torch==1.9.0, but you have torch 1.6.0 which is incompatible.\n",
            "torchtext 0.10.0 requires torch==1.9.0, but you have torch 1.6.0 which is incompatible.\n",
            "tensorflow 2.5.0 requires six~=1.15.0, but you have six 1.14.0 which is incompatible.\n",
            "google-colab 1.0.0 requires six~=1.15.0, but you have six 1.14.0 which is incompatible.\n",
            "datascience 0.10.6 requires folium==0.2.1, but you have folium 0.8.3 which is incompatible.\n",
            "albumentations 0.1.12 requires imgaug<0.2.7,>=0.2.5, but you have imgaug 0.2.9 which is incompatible.\u001b[0m\n",
            "Successfully installed boto3-1.12.36 botocore-1.15.36 certifi-2019.11.28 click-7.1.1 colorama-0.4.3 cymem-2.0.3 docutils-0.15.2 idna-2.9 importlib-metadata-1.6.0 jmespath-0.9.5 joblib-0.14.1 murmurhash-1.0.2 preshed-3.0.2 pytz-2019.3 regex-2020.2.20 s3transfer-0.3.3 sacremoses-0.0.38 sentencepiece-0.1.85 six-1.14.0 srsly-1.0.2 torch-1.6.0 tqdm-4.45.0 urllib3-1.25.8 wasabi-0.6.0 zipp-3.1.0\n"
          ],
          "name": "stdout"
        },
        {
          "output_type": "display_data",
          "data": {
            "application/vnd.colab-display-data+json": {
              "pip_warning": {
                "packages": [
                  "pytz",
                  "six"
                ]
              }
            }
          },
          "metadata": {
            "tags": []
          }
        }
      ]
    },
    {
      "cell_type": "code",
      "metadata": {
        "id": "fbEF5yRZy4an",
        "colab": {
          "base_uri": "https://localhost:8080/"
        },
        "outputId": "d141f700-34c9-46dc-cf31-b43ef42945ed"
      },
      "source": [
        "import sys\n",
        "from collections import defaultdict \n",
        "from collections import defaultdict \n",
        "from transformers import BertForMaskedLM, BertModel, BertTokenizer, BertForSequenceClassification\n",
        "\n",
        "sys.path.append('/content/gdrive/MyDrive/master_hpi/NLP_Project/code/adapter_evaluation/')\n",
        "path = \"/content/gdrive/MyDrive/master_hpi/NLP_Project/code/\""
      ],
      "execution_count": 5,
      "outputs": [
        {
          "output_type": "stream",
          "text": [
            "[autoreload of six failed: Traceback (most recent call last):\n",
            "  File \"/usr/local/lib/python3.7/dist-packages/IPython/extensions/autoreload.py\", line 247, in check\n",
            "    superreload(m, reload, self.old_objects)\n",
            "AttributeError: 'NoneType' object has no attribute 'cStringIO'\n",
            "]\n"
          ],
          "name": "stderr"
        }
      ]
    },
    {
      "cell_type": "code",
      "metadata": {
        "id": "R8yDqLezqXLT"
      },
      "source": [
        "#adapter_list = [\"sst\"]\n",
        "#for adapter in adapter_list:\n",
        "#  print(\"!python3 evaluation.py --no-cuda False --output-dir /content/gdrive/MyDrive/master_hpi/NLP_Project/code/results/ -- skip_intrasentence False --skip_intersentence False --batch_size 1\")"
      ],
      "execution_count": 6,
      "outputs": []
    },
    {
      "cell_type": "markdown",
      "metadata": {
        "id": "njMAGdTygkwL"
      },
      "source": [
        "## Sentiment Bert\n"
      ]
    },
    {
      "cell_type": "code",
      "metadata": {
        "id": "BWdxhEjqgaGX"
      },
      "source": [
        "import os\n",
        "try:\n",
        "    os.makedirs('/content/gdrive/MyDrive/master_hpi/NLP_Project/code/results/sentiment_bert/')\n",
        "except OSError as e:\n",
        "        pass"
      ],
      "execution_count": 7,
      "outputs": []
    },
    {
      "cell_type": "code",
      "metadata": {
        "id": "pKR_7gYdgtM1",
        "colab": {
          "base_uri": "https://localhost:8080/"
        },
        "outputId": "1e423699-71df-4f5f-9629-1538bc625eae"
      },
      "source": [
        "!python3 /content/gdrive/MyDrive/master_hpi/NLP_Project/code/adapter_evaluation/evaluation.py --load-path /content/gdrive/MyDrive/master_hpi/NLP_Project/code/models/sentiment_bert/SentimentBert.pth --input-file /content/gdrive/MyDrive/master_hpi/NLP_Project/code/dev.json --output-dir /content/gdrive/MyDrive/master_hpi/NLP_Project/code/results/sentiment_bert/ --output-file /content/gdrive/MyDrive/master_hpi/NLP_Project/code/results/sentiment_bert/predictions.json\n",
        "#!python3 evaluation.py --no-cuda False --output-dir /content/gdrive/MyDrive/master_hpi/NLP_Project/code/results/ -- skip_intrasentence False --skip_intersentence False --batch_size 1"
      ],
      "execution_count": 8,
      "outputs": [
        {
          "output_type": "stream",
          "text": [
            "usage: evaluation.py [-h] [--no-cuda] [--input-file INPUT_FILE]\n",
            "                     [--output-dir OUTPUT_DIR] [--output-file OUTPUT_FILE]\n",
            "                     [--skip-intrasentence]\n",
            "                     [--load-path_model LOAD_PATH_MODEL]\n",
            "                     [--load-path_adapter LOAD_PATH_ADAPTER]\n",
            "                     [--skip-intersentence] [--batch-size BATCH_SIZE]\n",
            "                     [--max-seq-length MAX_SEQ_LENGTH]\n",
            "evaluation.py: error: ambiguous option: --load-path could match --load-path_model, --load-path_adapter\n"
          ],
          "name": "stdout"
        }
      ]
    },
    {
      "cell_type": "code",
      "metadata": {
        "id": "xeAEkHH3hQYk",
        "colab": {
          "base_uri": "https://localhost:8080/"
        },
        "outputId": "66a6f2b9-89e9-4c34-a006-e45dade999df"
      },
      "source": [
        "!python3 /content/gdrive/MyDrive/master_hpi/NLP_Project/code/adapter_evaluation/score_evaluation.py --gold-file /content/gdrive/MyDrive/master_hpi/NLP_Project/code/dev.json --predictions-file /content/gdrive/MyDrive/master_hpi/NLP_Project/code/results/sentiment_bert/predictions.json --output-file /content/gdrive/MyDrive/master_hpi/NLP_Project/code/results/sentiment_bert/summary.json"
      ],
      "execution_count": 9,
      "outputs": [
        {
          "output_type": "stream",
          "text": [
            "intrasentence\n",
            "\tgender\n",
            "\t\tCount: 765.0\n",
            "\t\tLM Score: 36.45418751940491\n",
            "\t\tSS Score: 42.02009600705252\n",
            "\t\tICAT Score: 30.636169188489802\n",
            "\tprofession\n",
            "\t\tCount: 2430.0\n",
            "\t\tLM Score: 45.61401894636235\n",
            "\t\tSS Score: 45.28042588097158\n",
            "\t\tICAT Score: 41.30844408067987\n",
            "\trace\n",
            "\t\tCount: 2886.0\n",
            "\t\tLM Score: 49.101373831914486\n",
            "\t\tSS Score: 70.14426379380126\n",
            "\t\tICAT Score: 29.319153289751775\n",
            "\treligion\n",
            "\t\tCount: 237.0\n",
            "\t\tLM Score: 44.7816091954023\n",
            "\t\tSS Score: 50.62068965517241\n",
            "\t\tICAT Score: 44.225699564011094\n",
            "\toverall\n",
            "\t\tCount: 2106.0\n",
            "\t\tLM Score: 46.01211049519047\n",
            "\t\tSS Score: 56.40087724103842\n",
            "\t\tICAT Score: 40.121753077574276\n",
            "intersentence\n",
            "\tgender\n",
            "\t\tCount: 726.0\n",
            "\t\tLM Score: 85.78311081028474\n",
            "\t\tSS Score: 58.763293871989525\n",
            "\t\tICAT Score: 70.74825862460541\n",
            "\tprofession\n",
            "\t\tCount: 2481.0\n",
            "\t\tLM Score: 80.69744136512767\n",
            "\t\tSS Score: 65.2029215734073\n",
            "\t\tICAT Score: 56.160703920154276\n",
            "\trace\n",
            "\t\tCount: 2928.0\n",
            "\t\tLM Score: 84.90385064737741\n",
            "\t\tSS Score: 70.48116164220478\n",
            "\t\tICAT Score: 50.12526086428642\n",
            "\treligion\n",
            "\t\tCount: 234.0\n",
            "\t\tLM Score: 87.35057471264368\n",
            "\t\tSS Score: 68.78735632183908\n",
            "\t\tICAT Score: 54.52884727176641\n",
            "\toverall\n",
            "\t\tCount: 2123.0\n",
            "\t\tLM Score: 83.51069236076196\n",
            "\t\tSS Score: 66.92917055705067\n",
            "\t\tICAT Score: 55.235357274507415\n",
            "overall\n",
            "\tCount: 4229.0\n",
            "\tLM Score: 64.76576213786504\n",
            "\tSS Score: 61.67399326915965\n",
            "\tICAT Score: 49.6442607124764\n"
          ],
          "name": "stdout"
        }
      ]
    },
    {
      "cell_type": "markdown",
      "metadata": {
        "id": "-7yU1c9ugamN"
      },
      "source": [
        "## SST Adapter\n"
      ]
    },
    {
      "cell_type": "code",
      "metadata": {
        "id": "Nsl9kUigiOxz"
      },
      "source": [
        "import os\n",
        "try:\n",
        "    os.makedirs('/content/gdrive/MyDrive/master_hpi/NLP_Project/code/results/sst/')\n",
        "except OSError as e:\n",
        "        pass"
      ],
      "execution_count": 10,
      "outputs": []
    },
    {
      "cell_type": "code",
      "metadata": {
        "colab": {
          "base_uri": "https://localhost:8080/"
        },
        "id": "ZYyEJ2uFW40w",
        "outputId": "078b11e2-284a-49af-ad9f-a3c6d9b009ec"
      },
      "source": [
        "!python3 /content/gdrive/MyDrive/master_hpi/NLP_Project/code/adapter_evaluation/evaluation.py --load-path_model /content/gdrive/MyDrive/master_hpi/NLP_Project/code/models/sst/pytorch_model.bin --load-path_adapter /content/gdrive/MyDrive/master_hpi/NLP_Project/code/models/sst/pytorch_adapter.bin --input-file /content/gdrive/MyDrive/master_hpi/NLP_Project/code/dev.json --output-dir /content/gdrive/MyDrive/master_hpi/NLP_Project/code/results/sst/ --output-file /content/gdrive/MyDrive/master_hpi/NLP_Project/code/results/sst/predictions.json\n",
        "#!python3 evaluation.py --no-cuda False --output-dir /content/gdrive/MyDrive/master_hpi/NLP_Project/code/results/ -- skip_intrasentence False --skip_intersentence False --batch_size 1"
      ],
      "execution_count": 11,
      "outputs": [
        {
          "output_type": "stream",
          "text": [
            "Loading /content/gdrive/MyDrive/master_hpi/NLP_Project/code/dev.json...\n",
            "Downloading: 100% 232k/232k [00:00<00:00, 1.70MB/s]\n",
            "Downloading: 100% 28.0/28.0 [00:00<00:00, 24.2kB/s]\n",
            "Downloading: 100% 466k/466k [00:00<00:00, 3.27MB/s]\n",
            "---------------------------------------------------------------\n",
            "\u001b[96m                     ARGUMENTS                 \u001b[0m\n",
            "\u001b[96mPretrained Model:\u001b[0m /content/gdrive/MyDrive/master_hpi/NLP_Project/code/models/sst/pytorch_model.bin\n",
            "\u001b[96mSkip Intrasentence:\u001b[0m False\n",
            "\u001b[96mSkip Intersentence:\u001b[0m False\n",
            "\u001b[96mBatch Size:\u001b[0m 1\n",
            "\u001b[96mMax Seq Length:\u001b[0m None\n",
            "\u001b[96mCUDA:\u001b[0m True\n",
            "---------------------------------------------------------------\n",
            "\n",
            "\u001b[94mEvaluating bias on intersentence tasks...\u001b[0m\n",
            "/usr/local/lib/python3.7/dist-packages/transformers/tokenization_utils_base.py:2160: FutureWarning: The `truncation_strategy` argument is deprecated and will be removed in a future version, use `truncation=True` to truncate examples to a max length. You can give a specific length with `max_length` (e.g. `max_length=45`) or leave max_length to None to truncate to the maximal input size of the model (e.g. 512 for Bert).  If you have pairs of inputs, you can give a specific truncation strategy selected among `truncation='only_first'` (will only truncate the first sentence in the pairs) `truncation='only_second'` (will only truncate the second sentence in the pairs) or `truncation='longest_first'` (will iteratively remove tokens from the longest sentence in the pairs).\n",
            "  FutureWarning,\n",
            "Maximum sequence length found: -inf\n",
            "Downloading: 100% 570/570 [00:00<00:00, 535kB/s]\n",
            "Downloading: 100% 440M/440M [00:07<00:00, 61.0MB/s]\n",
            "Some weights of the model checkpoint at bert-base-uncased were not used when initializing BertModel: ['cls.seq_relationship.weight', 'cls.predictions.transform.dense.weight', 'cls.predictions.bias', 'cls.seq_relationship.bias', 'cls.predictions.transform.LayerNorm.weight', 'cls.predictions.decoder.weight', 'cls.predictions.transform.LayerNorm.bias', 'cls.predictions.transform.dense.bias']\n",
            "- This IS expected if you are initializing BertModel from the checkpoint of a model trained on another task or with another architecture (e.g. initializing a BertForSequenceClassification model from a BertForPreTraining model).\n",
            "- This IS NOT expected if you are initializing BertModel from the checkpoint of a model that you expect to be exactly identical (initializing a BertForSequenceClassification model from a BertForSequenceClassification model).\n",
            "Number of parameters: 109,483,778\n",
            "odict_keys(['bert.embeddings.position_ids', 'bert.embeddings.word_embeddings.weight', 'bert.embeddings.position_embeddings.weight', 'bert.embeddings.token_type_embeddings.weight', 'bert.embeddings.LayerNorm.weight', 'bert.embeddings.LayerNorm.bias', 'bert.encoder.layer.0.attention.self.query.weight', 'bert.encoder.layer.0.attention.self.query.bias', 'bert.encoder.layer.0.attention.self.key.weight', 'bert.encoder.layer.0.attention.self.key.bias', 'bert.encoder.layer.0.attention.self.value.weight', 'bert.encoder.layer.0.attention.self.value.bias', 'bert.encoder.layer.0.attention.output.dense.weight', 'bert.encoder.layer.0.attention.output.dense.bias', 'bert.encoder.layer.0.attention.output.LayerNorm.weight', 'bert.encoder.layer.0.attention.output.LayerNorm.bias', 'bert.encoder.layer.0.intermediate.dense.weight', 'bert.encoder.layer.0.intermediate.dense.bias', 'bert.encoder.layer.0.output.dense.weight', 'bert.encoder.layer.0.output.dense.bias', 'bert.encoder.layer.0.output.LayerNorm.weight', 'bert.encoder.layer.0.output.LayerNorm.bias', 'bert.encoder.layer.0.output.adapters.sst-2.adapter_down.0.weight', 'bert.encoder.layer.0.output.adapters.sst-2.adapter_down.0.bias', 'bert.encoder.layer.0.output.adapters.sst-2.adapter_up.weight', 'bert.encoder.layer.0.output.adapters.sst-2.adapter_up.bias', 'bert.encoder.layer.1.attention.self.query.weight', 'bert.encoder.layer.1.attention.self.query.bias', 'bert.encoder.layer.1.attention.self.key.weight', 'bert.encoder.layer.1.attention.self.key.bias', 'bert.encoder.layer.1.attention.self.value.weight', 'bert.encoder.layer.1.attention.self.value.bias', 'bert.encoder.layer.1.attention.output.dense.weight', 'bert.encoder.layer.1.attention.output.dense.bias', 'bert.encoder.layer.1.attention.output.LayerNorm.weight', 'bert.encoder.layer.1.attention.output.LayerNorm.bias', 'bert.encoder.layer.1.intermediate.dense.weight', 'bert.encoder.layer.1.intermediate.dense.bias', 'bert.encoder.layer.1.output.dense.weight', 'bert.encoder.layer.1.output.dense.bias', 'bert.encoder.layer.1.output.LayerNorm.weight', 'bert.encoder.layer.1.output.LayerNorm.bias', 'bert.encoder.layer.1.output.adapters.sst-2.adapter_down.0.weight', 'bert.encoder.layer.1.output.adapters.sst-2.adapter_down.0.bias', 'bert.encoder.layer.1.output.adapters.sst-2.adapter_up.weight', 'bert.encoder.layer.1.output.adapters.sst-2.adapter_up.bias', 'bert.encoder.layer.2.attention.self.query.weight', 'bert.encoder.layer.2.attention.self.query.bias', 'bert.encoder.layer.2.attention.self.key.weight', 'bert.encoder.layer.2.attention.self.key.bias', 'bert.encoder.layer.2.attention.self.value.weight', 'bert.encoder.layer.2.attention.self.value.bias', 'bert.encoder.layer.2.attention.output.dense.weight', 'bert.encoder.layer.2.attention.output.dense.bias', 'bert.encoder.layer.2.attention.output.LayerNorm.weight', 'bert.encoder.layer.2.attention.output.LayerNorm.bias', 'bert.encoder.layer.2.intermediate.dense.weight', 'bert.encoder.layer.2.intermediate.dense.bias', 'bert.encoder.layer.2.output.dense.weight', 'bert.encoder.layer.2.output.dense.bias', 'bert.encoder.layer.2.output.LayerNorm.weight', 'bert.encoder.layer.2.output.LayerNorm.bias', 'bert.encoder.layer.2.output.adapters.sst-2.adapter_down.0.weight', 'bert.encoder.layer.2.output.adapters.sst-2.adapter_down.0.bias', 'bert.encoder.layer.2.output.adapters.sst-2.adapter_up.weight', 'bert.encoder.layer.2.output.adapters.sst-2.adapter_up.bias', 'bert.encoder.layer.3.attention.self.query.weight', 'bert.encoder.layer.3.attention.self.query.bias', 'bert.encoder.layer.3.attention.self.key.weight', 'bert.encoder.layer.3.attention.self.key.bias', 'bert.encoder.layer.3.attention.self.value.weight', 'bert.encoder.layer.3.attention.self.value.bias', 'bert.encoder.layer.3.attention.output.dense.weight', 'bert.encoder.layer.3.attention.output.dense.bias', 'bert.encoder.layer.3.attention.output.LayerNorm.weight', 'bert.encoder.layer.3.attention.output.LayerNorm.bias', 'bert.encoder.layer.3.intermediate.dense.weight', 'bert.encoder.layer.3.intermediate.dense.bias', 'bert.encoder.layer.3.output.dense.weight', 'bert.encoder.layer.3.output.dense.bias', 'bert.encoder.layer.3.output.LayerNorm.weight', 'bert.encoder.layer.3.output.LayerNorm.bias', 'bert.encoder.layer.3.output.adapters.sst-2.adapter_down.0.weight', 'bert.encoder.layer.3.output.adapters.sst-2.adapter_down.0.bias', 'bert.encoder.layer.3.output.adapters.sst-2.adapter_up.weight', 'bert.encoder.layer.3.output.adapters.sst-2.adapter_up.bias', 'bert.encoder.layer.4.attention.self.query.weight', 'bert.encoder.layer.4.attention.self.query.bias', 'bert.encoder.layer.4.attention.self.key.weight', 'bert.encoder.layer.4.attention.self.key.bias', 'bert.encoder.layer.4.attention.self.value.weight', 'bert.encoder.layer.4.attention.self.value.bias', 'bert.encoder.layer.4.attention.output.dense.weight', 'bert.encoder.layer.4.attention.output.dense.bias', 'bert.encoder.layer.4.attention.output.LayerNorm.weight', 'bert.encoder.layer.4.attention.output.LayerNorm.bias', 'bert.encoder.layer.4.intermediate.dense.weight', 'bert.encoder.layer.4.intermediate.dense.bias', 'bert.encoder.layer.4.output.dense.weight', 'bert.encoder.layer.4.output.dense.bias', 'bert.encoder.layer.4.output.LayerNorm.weight', 'bert.encoder.layer.4.output.LayerNorm.bias', 'bert.encoder.layer.4.output.adapters.sst-2.adapter_down.0.weight', 'bert.encoder.layer.4.output.adapters.sst-2.adapter_down.0.bias', 'bert.encoder.layer.4.output.adapters.sst-2.adapter_up.weight', 'bert.encoder.layer.4.output.adapters.sst-2.adapter_up.bias', 'bert.encoder.layer.5.attention.self.query.weight', 'bert.encoder.layer.5.attention.self.query.bias', 'bert.encoder.layer.5.attention.self.key.weight', 'bert.encoder.layer.5.attention.self.key.bias', 'bert.encoder.layer.5.attention.self.value.weight', 'bert.encoder.layer.5.attention.self.value.bias', 'bert.encoder.layer.5.attention.output.dense.weight', 'bert.encoder.layer.5.attention.output.dense.bias', 'bert.encoder.layer.5.attention.output.LayerNorm.weight', 'bert.encoder.layer.5.attention.output.LayerNorm.bias', 'bert.encoder.layer.5.intermediate.dense.weight', 'bert.encoder.layer.5.intermediate.dense.bias', 'bert.encoder.layer.5.output.dense.weight', 'bert.encoder.layer.5.output.dense.bias', 'bert.encoder.layer.5.output.LayerNorm.weight', 'bert.encoder.layer.5.output.LayerNorm.bias', 'bert.encoder.layer.5.output.adapters.sst-2.adapter_down.0.weight', 'bert.encoder.layer.5.output.adapters.sst-2.adapter_down.0.bias', 'bert.encoder.layer.5.output.adapters.sst-2.adapter_up.weight', 'bert.encoder.layer.5.output.adapters.sst-2.adapter_up.bias', 'bert.encoder.layer.6.attention.self.query.weight', 'bert.encoder.layer.6.attention.self.query.bias', 'bert.encoder.layer.6.attention.self.key.weight', 'bert.encoder.layer.6.attention.self.key.bias', 'bert.encoder.layer.6.attention.self.value.weight', 'bert.encoder.layer.6.attention.self.value.bias', 'bert.encoder.layer.6.attention.output.dense.weight', 'bert.encoder.layer.6.attention.output.dense.bias', 'bert.encoder.layer.6.attention.output.LayerNorm.weight', 'bert.encoder.layer.6.attention.output.LayerNorm.bias', 'bert.encoder.layer.6.intermediate.dense.weight', 'bert.encoder.layer.6.intermediate.dense.bias', 'bert.encoder.layer.6.output.dense.weight', 'bert.encoder.layer.6.output.dense.bias', 'bert.encoder.layer.6.output.LayerNorm.weight', 'bert.encoder.layer.6.output.LayerNorm.bias', 'bert.encoder.layer.6.output.adapters.sst-2.adapter_down.0.weight', 'bert.encoder.layer.6.output.adapters.sst-2.adapter_down.0.bias', 'bert.encoder.layer.6.output.adapters.sst-2.adapter_up.weight', 'bert.encoder.layer.6.output.adapters.sst-2.adapter_up.bias', 'bert.encoder.layer.7.attention.self.query.weight', 'bert.encoder.layer.7.attention.self.query.bias', 'bert.encoder.layer.7.attention.self.key.weight', 'bert.encoder.layer.7.attention.self.key.bias', 'bert.encoder.layer.7.attention.self.value.weight', 'bert.encoder.layer.7.attention.self.value.bias', 'bert.encoder.layer.7.attention.output.dense.weight', 'bert.encoder.layer.7.attention.output.dense.bias', 'bert.encoder.layer.7.attention.output.LayerNorm.weight', 'bert.encoder.layer.7.attention.output.LayerNorm.bias', 'bert.encoder.layer.7.intermediate.dense.weight', 'bert.encoder.layer.7.intermediate.dense.bias', 'bert.encoder.layer.7.output.dense.weight', 'bert.encoder.layer.7.output.dense.bias', 'bert.encoder.layer.7.output.LayerNorm.weight', 'bert.encoder.layer.7.output.LayerNorm.bias', 'bert.encoder.layer.7.output.adapters.sst-2.adapter_down.0.weight', 'bert.encoder.layer.7.output.adapters.sst-2.adapter_down.0.bias', 'bert.encoder.layer.7.output.adapters.sst-2.adapter_up.weight', 'bert.encoder.layer.7.output.adapters.sst-2.adapter_up.bias', 'bert.encoder.layer.8.attention.self.query.weight', 'bert.encoder.layer.8.attention.self.query.bias', 'bert.encoder.layer.8.attention.self.key.weight', 'bert.encoder.layer.8.attention.self.key.bias', 'bert.encoder.layer.8.attention.self.value.weight', 'bert.encoder.layer.8.attention.self.value.bias', 'bert.encoder.layer.8.attention.output.dense.weight', 'bert.encoder.layer.8.attention.output.dense.bias', 'bert.encoder.layer.8.attention.output.LayerNorm.weight', 'bert.encoder.layer.8.attention.output.LayerNorm.bias', 'bert.encoder.layer.8.intermediate.dense.weight', 'bert.encoder.layer.8.intermediate.dense.bias', 'bert.encoder.layer.8.output.dense.weight', 'bert.encoder.layer.8.output.dense.bias', 'bert.encoder.layer.8.output.LayerNorm.weight', 'bert.encoder.layer.8.output.LayerNorm.bias', 'bert.encoder.layer.8.output.adapters.sst-2.adapter_down.0.weight', 'bert.encoder.layer.8.output.adapters.sst-2.adapter_down.0.bias', 'bert.encoder.layer.8.output.adapters.sst-2.adapter_up.weight', 'bert.encoder.layer.8.output.adapters.sst-2.adapter_up.bias', 'bert.encoder.layer.9.attention.self.query.weight', 'bert.encoder.layer.9.attention.self.query.bias', 'bert.encoder.layer.9.attention.self.key.weight', 'bert.encoder.layer.9.attention.self.key.bias', 'bert.encoder.layer.9.attention.self.value.weight', 'bert.encoder.layer.9.attention.self.value.bias', 'bert.encoder.layer.9.attention.output.dense.weight', 'bert.encoder.layer.9.attention.output.dense.bias', 'bert.encoder.layer.9.attention.output.LayerNorm.weight', 'bert.encoder.layer.9.attention.output.LayerNorm.bias', 'bert.encoder.layer.9.intermediate.dense.weight', 'bert.encoder.layer.9.intermediate.dense.bias', 'bert.encoder.layer.9.output.dense.weight', 'bert.encoder.layer.9.output.dense.bias', 'bert.encoder.layer.9.output.LayerNorm.weight', 'bert.encoder.layer.9.output.LayerNorm.bias', 'bert.encoder.layer.9.output.adapters.sst-2.adapter_down.0.weight', 'bert.encoder.layer.9.output.adapters.sst-2.adapter_down.0.bias', 'bert.encoder.layer.9.output.adapters.sst-2.adapter_up.weight', 'bert.encoder.layer.9.output.adapters.sst-2.adapter_up.bias', 'bert.encoder.layer.10.attention.self.query.weight', 'bert.encoder.layer.10.attention.self.query.bias', 'bert.encoder.layer.10.attention.self.key.weight', 'bert.encoder.layer.10.attention.self.key.bias', 'bert.encoder.layer.10.attention.self.value.weight', 'bert.encoder.layer.10.attention.self.value.bias', 'bert.encoder.layer.10.attention.output.dense.weight', 'bert.encoder.layer.10.attention.output.dense.bias', 'bert.encoder.layer.10.attention.output.LayerNorm.weight', 'bert.encoder.layer.10.attention.output.LayerNorm.bias', 'bert.encoder.layer.10.intermediate.dense.weight', 'bert.encoder.layer.10.intermediate.dense.bias', 'bert.encoder.layer.10.output.dense.weight', 'bert.encoder.layer.10.output.dense.bias', 'bert.encoder.layer.10.output.LayerNorm.weight', 'bert.encoder.layer.10.output.LayerNorm.bias', 'bert.encoder.layer.10.output.adapters.sst-2.adapter_down.0.weight', 'bert.encoder.layer.10.output.adapters.sst-2.adapter_down.0.bias', 'bert.encoder.layer.10.output.adapters.sst-2.adapter_up.weight', 'bert.encoder.layer.10.output.adapters.sst-2.adapter_up.bias', 'bert.encoder.layer.11.attention.self.query.weight', 'bert.encoder.layer.11.attention.self.query.bias', 'bert.encoder.layer.11.attention.self.key.weight', 'bert.encoder.layer.11.attention.self.key.bias', 'bert.encoder.layer.11.attention.self.value.weight', 'bert.encoder.layer.11.attention.self.value.bias', 'bert.encoder.layer.11.attention.output.dense.weight', 'bert.encoder.layer.11.attention.output.dense.bias', 'bert.encoder.layer.11.attention.output.LayerNorm.weight', 'bert.encoder.layer.11.attention.output.LayerNorm.bias', 'bert.encoder.layer.11.intermediate.dense.weight', 'bert.encoder.layer.11.intermediate.dense.bias', 'bert.encoder.layer.11.output.dense.weight', 'bert.encoder.layer.11.output.dense.bias', 'bert.encoder.layer.11.output.LayerNorm.weight', 'bert.encoder.layer.11.output.LayerNorm.bias', 'bert.encoder.layer.11.output.adapters.sst-2.adapter_down.0.weight', 'bert.encoder.layer.11.output.adapters.sst-2.adapter_down.0.bias', 'bert.encoder.layer.11.output.adapters.sst-2.adapter_up.weight', 'bert.encoder.layer.11.output.adapters.sst-2.adapter_up.bias', 'bert.pooler.dense.weight', 'bert.pooler.dense.bias', 'classifier.weight', 'classifier.bias'])\n",
            "100% 6369/6369 [01:48<00:00, 58.48it/s]\n",
            "\n",
            "\u001b[91mEvaluating bias on intrasentence tasks...\u001b[0m\n",
            "Some weights of the model checkpoint at bert-base-uncased were not used when initializing BertModel: ['cls.seq_relationship.weight', 'cls.predictions.transform.dense.weight', 'cls.predictions.bias', 'cls.seq_relationship.bias', 'cls.predictions.transform.LayerNorm.weight', 'cls.predictions.decoder.weight', 'cls.predictions.transform.LayerNorm.bias', 'cls.predictions.transform.dense.bias']\n",
            "- This IS expected if you are initializing BertModel from the checkpoint of a model trained on another task or with another architecture (e.g. initializing a BertForSequenceClassification model from a BertForPreTraining model).\n",
            "- This IS NOT expected if you are initializing BertModel from the checkpoint of a model that you expect to be exactly identical (initializing a BertForSequenceClassification model from a BertForSequenceClassification model).\n",
            "Number of parameters: 109,483,778\n",
            "/usr/local/lib/python3.7/dist-packages/transformers/tokenization_utils_base.py:2132: FutureWarning: The `pad_to_max_length` argument is deprecated and will be removed in a future version, use `padding=True` or `padding='longest'` to pad to the longest sequence in the batch, or use `padding='max_length'` to pad to a max length. In this case, you can give a specific length with `max_length` (e.g. `max_length=45`) or leave max_length to None to pad to the maximal input size of the model (e.g. 512 for Bert).\n",
            "  FutureWarning,\n",
            "/usr/local/lib/python3.7/dist-packages/transformers/tokenization_utils_base.py:2132: FutureWarning: The `pad_to_max_length` argument is deprecated and will be removed in a future version, use `padding=True` or `padding='longest'` to pad to the longest sequence in the batch, or use `padding='max_length'` to pad to a max length. In this case, you can give a specific length with `max_length` (e.g. `max_length=45`) or leave max_length to None to pad to the maximal input size of the model (e.g. 512 for Bert).\n",
            "  FutureWarning,\n",
            "/usr/local/lib/python3.7/dist-packages/transformers/tokenization_utils_base.py:2132: FutureWarning: The `pad_to_max_length` argument is deprecated and will be removed in a future version, use `padding=True` or `padding='longest'` to pad to the longest sequence in the batch, or use `padding='max_length'` to pad to a max length. In this case, you can give a specific length with `max_length` (e.g. `max_length=45`) or leave max_length to None to pad to the maximal input size of the model (e.g. 512 for Bert).\n",
            "  FutureWarning,\n",
            "/usr/local/lib/python3.7/dist-packages/transformers/tokenization_utils_base.py:2132: FutureWarning: The `pad_to_max_length` argument is deprecated and will be removed in a future version, use `padding=True` or `padding='longest'` to pad to the longest sequence in the batch, or use `padding='max_length'` to pad to a max length. In this case, you can give a specific length with `max_length` (e.g. `max_length=45`) or leave max_length to None to pad to the maximal input size of the model (e.g. 512 for Bert).\n",
            "  FutureWarning,\n",
            "  0% 0/6318 [00:00<?, ?it/s]/usr/local/lib/python3.7/dist-packages/transformers/tokenization_utils_base.py:2132: FutureWarning: The `pad_to_max_length` argument is deprecated and will be removed in a future version, use `padding=True` or `padding='longest'` to pad to the longest sequence in the batch, or use `padding='max_length'` to pad to a max length. In this case, you can give a specific length with `max_length` (e.g. `max_length=45`) or leave max_length to None to pad to the maximal input size of the model (e.g. 512 for Bert).\n",
            "  FutureWarning,\n",
            "100% 6318/6318 [01:49<00:00, 57.75it/s]\n"
          ],
          "name": "stdout"
        }
      ]
    },
    {
      "cell_type": "code",
      "metadata": {
        "id": "tDw_upEajSLL",
        "colab": {
          "base_uri": "https://localhost:8080/"
        },
        "outputId": "8f80c614-0ee0-4b3f-97d6-e0dd006712d9"
      },
      "source": [
        "!python3 /content/gdrive/MyDrive/master_hpi/NLP_Project/code/adapter_evaluation/score_evaluation.py --gold-file /content/gdrive/MyDrive/master_hpi/NLP_Project/code/dev.json --predictions-file /content/gdrive/MyDrive/master_hpi/NLP_Project/code/results/sst/predictions.json --output-file /content/gdrive/MyDrive/master_hpi/NLP_Project/code/results/sst/summary.json"
      ],
      "execution_count": 12,
      "outputs": [
        {
          "output_type": "stream",
          "text": [
            "intrasentence\n",
            "\tgender\n",
            "\t\tCount: 765.0\n",
            "\t\tLM Score: 45.91933364542059\n",
            "\t\tSS Score: 51.118456905413424\n",
            "\t\tICAT Score: 44.89215772926652\n",
            "\tprofession\n",
            "\t\tCount: 2430.0\n",
            "\t\tLM Score: 39.872843116209225\n",
            "\t\tSS Score: 48.60059298275029\n",
            "\t\tICAT Score: 38.75687638711882\n",
            "\trace\n",
            "\t\tCount: 2886.0\n",
            "\t\tLM Score: 34.97359197774884\n",
            "\t\tSS Score: 52.864209424855176\n",
            "\t\tICAT Score: 32.97015814247469\n",
            "\treligion\n",
            "\t\tCount: 237.0\n",
            "\t\tLM Score: 39.28735632183908\n",
            "\t\tSS Score: 57.241379310344826\n",
            "\t\tICAT Score: 33.597463337296865\n",
            "\toverall\n",
            "\t\tCount: 2106.0\n",
            "\t\tLM Score: 38.38341784942986\n",
            "\t\tSS Score: 51.19035488306916\n",
            "\t\tICAT Score: 37.46962007211081\n",
            "intersentence\n",
            "\tgender\n",
            "\t\tCount: 726.0\n",
            "\t\tLM Score: 70.6322994638212\n",
            "\t\tSS Score: 43.113995505299854\n",
            "\t\tICAT Score: 60.904812832243614\n",
            "\tprofession\n",
            "\t\tCount: 2481.0\n",
            "\t\tLM Score: 67.41529759121529\n",
            "\t\tSS Score: 49.67834286314079\n",
            "\t\tICAT Score: 66.98160535914126\n",
            "\trace\n",
            "\t\tCount: 2928.0\n",
            "\t\tLM Score: 67.1786963697188\n",
            "\t\tSS Score: 45.521771296103886\n",
            "\t\tICAT Score: 61.16186504225488\n",
            "\treligion\n",
            "\t\tCount: 234.0\n",
            "\t\tLM Score: 70.71072796934865\n",
            "\t\tSS Score: 45.053639846743295\n",
            "\t\tICAT Score: 63.715513424641436\n",
            "\toverall\n",
            "\t\tCount: 2123.0\n",
            "\t\tLM Score: 67.83983766572902\n",
            "\t\tSS Score: 46.77765730566066\n",
            "\t\tICAT Score: 63.46777355998245\n",
            "overall\n",
            "\tCount: 4229.0\n",
            "\tLM Score: 53.15031310101773\n",
            "\tSS Score: 49.00151083731304\n",
            "\tICAT Score: 52.08891286852203\n"
          ],
          "name": "stdout"
        }
      ]
    },
    {
      "cell_type": "markdown",
      "metadata": {
        "id": "lDFKHWqKlWRE"
      },
      "source": [
        "# RoBERTa\n"
      ]
    },
    {
      "cell_type": "code",
      "metadata": {
        "id": "sDjpLNYqlU2x"
      },
      "source": [
        "import os\n",
        "try:\n",
        "    os.makedirs('/content/gdrive/MyDrive/master_hpi/NLP_Project/code/results/roberta/')\n",
        "except OSError as e:\n",
        "        pass"
      ],
      "execution_count": 26,
      "outputs": []
    },
    {
      "cell_type": "code",
      "metadata": {
        "id": "sFZPbqQnfV-v",
        "colab": {
          "base_uri": "https://localhost:8080/"
        },
        "outputId": "4d315746-a09d-4060-f732-1a36d1d87bed"
      },
      "source": [
        "!python3 /content/gdrive/MyDrive/master_hpi/NLP_Project/code/adapter_evaluation/evaluation.py --load-path_model /content/gdrive/MyDrive/master_hpi/NLP_Project/code/models/roberta/pytorch_model_head.bin --load-path_adapter /content/gdrive/MyDrive/master_hpi/NLP_Project/code/models/roberta/pytorch_adapter.bin --input-file /content/gdrive/MyDrive/master_hpi/NLP_Project/code/dev.json --output-dir /content/gdrive/MyDrive/master_hpi/NLP_Project/code/results/roberta/ --output-file /content/gdrive/MyDrive/master_hpi/NLP_Project/code/results/roberta/predictions.json\n"
      ],
      "execution_count": 27,
      "outputs": [
        {
          "output_type": "stream",
          "text": [
            "Loading /content/gdrive/MyDrive/master_hpi/NLP_Project/code/dev.json...\n",
            "---------------------------------------------------------------\n",
            "\u001b[96m                     ARGUMENTS                 \u001b[0m\n",
            "\u001b[96mPretrained Model:\u001b[0m /content/gdrive/MyDrive/master_hpi/NLP_Project/code/models/roberta/pytorch_model_head.bin\n",
            "\u001b[96mSkip Intrasentence:\u001b[0m False\n",
            "\u001b[96mSkip Intersentence:\u001b[0m False\n",
            "\u001b[96mBatch Size:\u001b[0m 1\n",
            "\u001b[96mMax Seq Length:\u001b[0m None\n",
            "\u001b[96mCUDA:\u001b[0m True\n",
            "---------------------------------------------------------------\n",
            "\n",
            "\u001b[94mEvaluating bias on intersentence tasks...\u001b[0m\n",
            "/usr/local/lib/python3.7/dist-packages/transformers/tokenization_utils_base.py:2160: FutureWarning: The `truncation_strategy` argument is deprecated and will be removed in a future version, use `truncation=True` to truncate examples to a max length. You can give a specific length with `max_length` (e.g. `max_length=45`) or leave max_length to None to truncate to the maximal input size of the model (e.g. 512 for Bert).  If you have pairs of inputs, you can give a specific truncation strategy selected among `truncation='only_first'` (will only truncate the first sentence in the pairs) `truncation='only_second'` (will only truncate the second sentence in the pairs) or `truncation='longest_first'` (will iteratively remove tokens from the longest sentence in the pairs).\n",
            "  FutureWarning,\n",
            "Maximum sequence length found: -inf\n",
            "Some weights of the model checkpoint at bert-base-uncased were not used when initializing BertModel: ['cls.predictions.bias', 'cls.seq_relationship.weight', 'cls.seq_relationship.bias', 'cls.predictions.transform.LayerNorm.bias', 'cls.predictions.transform.dense.bias', 'cls.predictions.transform.LayerNorm.weight', 'cls.predictions.decoder.weight', 'cls.predictions.transform.dense.weight']\n",
            "- This IS expected if you are initializing BertModel from the checkpoint of a model trained on another task or with another architecture (e.g. initializing a BertForSequenceClassification model from a BertForPreTraining model).\n",
            "- This IS NOT expected if you are initializing BertModel from the checkpoint of a model that you expect to be exactly identical (initializing a BertForSequenceClassification model from a BertForSequenceClassification model).\n",
            "Number of parameters: 109,483,778\n",
            "dict_keys(['heads.rotten_tomatoes.1.weight', 'heads.rotten_tomatoes.1.bias', 'heads.rotten_tomatoes.4.weight', 'heads.rotten_tomatoes.4.bias'])\n",
            "100% 6369/6369 [01:44<00:00, 61.03it/s]\n",
            "\n",
            "\u001b[91mEvaluating bias on intrasentence tasks...\u001b[0m\n",
            "Some weights of the model checkpoint at bert-base-uncased were not used when initializing BertModel: ['cls.predictions.bias', 'cls.seq_relationship.weight', 'cls.seq_relationship.bias', 'cls.predictions.transform.LayerNorm.bias', 'cls.predictions.transform.dense.bias', 'cls.predictions.transform.LayerNorm.weight', 'cls.predictions.decoder.weight', 'cls.predictions.transform.dense.weight']\n",
            "- This IS expected if you are initializing BertModel from the checkpoint of a model trained on another task or with another architecture (e.g. initializing a BertForSequenceClassification model from a BertForPreTraining model).\n",
            "- This IS NOT expected if you are initializing BertModel from the checkpoint of a model that you expect to be exactly identical (initializing a BertForSequenceClassification model from a BertForSequenceClassification model).\n",
            "Number of parameters: 109,483,778\n",
            "/usr/local/lib/python3.7/dist-packages/transformers/tokenization_utils_base.py:2132: FutureWarning: The `pad_to_max_length` argument is deprecated and will be removed in a future version, use `padding=True` or `padding='longest'` to pad to the longest sequence in the batch, or use `padding='max_length'` to pad to a max length. In this case, you can give a specific length with `max_length` (e.g. `max_length=45`) or leave max_length to None to pad to the maximal input size of the model (e.g. 512 for Bert).\n",
            "  FutureWarning,\n",
            "/usr/local/lib/python3.7/dist-packages/transformers/tokenization_utils_base.py:2132: FutureWarning: The `pad_to_max_length` argument is deprecated and will be removed in a future version, use `padding=True` or `padding='longest'` to pad to the longest sequence in the batch, or use `padding='max_length'` to pad to a max length. In this case, you can give a specific length with `max_length` (e.g. `max_length=45`) or leave max_length to None to pad to the maximal input size of the model (e.g. 512 for Bert).\n",
            "  FutureWarning,\n",
            "/usr/local/lib/python3.7/dist-packages/transformers/tokenization_utils_base.py:2132: FutureWarning: The `pad_to_max_length` argument is deprecated and will be removed in a future version, use `padding=True` or `padding='longest'` to pad to the longest sequence in the batch, or use `padding='max_length'` to pad to a max length. In this case, you can give a specific length with `max_length` (e.g. `max_length=45`) or leave max_length to None to pad to the maximal input size of the model (e.g. 512 for Bert).\n",
            "  FutureWarning,\n",
            "/usr/local/lib/python3.7/dist-packages/transformers/tokenization_utils_base.py:2132: FutureWarning: The `pad_to_max_length` argument is deprecated and will be removed in a future version, use `padding=True` or `padding='longest'` to pad to the longest sequence in the batch, or use `padding='max_length'` to pad to a max length. In this case, you can give a specific length with `max_length` (e.g. `max_length=45`) or leave max_length to None to pad to the maximal input size of the model (e.g. 512 for Bert).\n",
            "  FutureWarning,\n",
            "/usr/local/lib/python3.7/dist-packages/transformers/tokenization_utils_base.py:2132: FutureWarning: The `pad_to_max_length` argument is deprecated and will be removed in a future version, use `padding=True` or `padding='longest'` to pad to the longest sequence in the batch, or use `padding='max_length'` to pad to a max length. In this case, you can give a specific length with `max_length` (e.g. `max_length=45`) or leave max_length to None to pad to the maximal input size of the model (e.g. 512 for Bert).\n",
            "  FutureWarning,\n",
            "100% 6318/6318 [01:46<00:00, 59.07it/s]\n"
          ],
          "name": "stdout"
        }
      ]
    },
    {
      "cell_type": "code",
      "metadata": {
        "colab": {
          "base_uri": "https://localhost:8080/"
        },
        "id": "xAxTHS7ylu5C",
        "outputId": "d5323aec-259a-41f8-f91d-175b5023af0b"
      },
      "source": [
        "!python3 /content/gdrive/MyDrive/master_hpi/NLP_Project/code/adapter_evaluation/score_evaluation.py --gold-file /content/gdrive/MyDrive/master_hpi/NLP_Project/code/dev.json --predictions-file /content/gdrive/MyDrive/master_hpi/NLP_Project/code/results/roberta/predictions.json --output-file /content/gdrive/MyDrive/master_hpi/NLP_Project/code/results/roberta/summary.json"
      ],
      "execution_count": 28,
      "outputs": [
        {
          "output_type": "stream",
          "text": [
            "intrasentence\n",
            "\tgender\n",
            "\t\tCount: 765.0\n",
            "\t\tLM Score: 57.61251872121437\n",
            "\t\tSS Score: 48.907944068813634\n",
            "\t\tICAT Score: 56.35419686561262\n",
            "\tprofession\n",
            "\t\tCount: 2430.0\n",
            "\t\tLM Score: 56.75200938428044\n",
            "\t\tSS Score: 49.984738677571286\n",
            "\t\tICAT Score: 56.73468717000662\n",
            "\trace\n",
            "\t\tCount: 2886.0\n",
            "\t\tLM Score: 65.65826879356138\n",
            "\t\tSS Score: 52.66689783697006\n",
            "\t\tICAT Score: 62.15619089306643\n",
            "\treligion\n",
            "\t\tCount: 237.0\n",
            "\t\tLM Score: 68.22988505747126\n",
            "\t\tSS Score: 57.60919540229886\n",
            "\t\tICAT Score: 57.846394503897464\n",
            "\toverall\n",
            "\t\tCount: 2106.0\n",
            "\t\tLM Score: 61.35535190482505\n",
            "\t\tSS Score: 51.36022163738093\n",
            "\t\tICAT Score: 59.68621436022376\n",
            "intersentence\n",
            "\tgender\n",
            "\t\tCount: 726.0\n",
            "\t\tLM Score: 10.483877032790076\n",
            "\t\tSS Score: 44.748035780644464\n",
            "\t\tICAT Score: 9.382658091663341\n",
            "\tprofession\n",
            "\t\tCount: 2481.0\n",
            "\t\tLM Score: 16.047803449314387\n",
            "\t\tSS Score: 47.96422551891591\n",
            "\t\tICAT Score: 15.394409274523037\n",
            "\trace\n",
            "\t\tCount: 2928.0\n",
            "\t\tLM Score: 16.186329153870247\n",
            "\t\tSS Score: 56.366103567237545\n",
            "\t\tICAT Score: 14.125452198531557\n",
            "\treligion\n",
            "\t\tCount: 234.0\n",
            "\t\tLM Score: 11.224137931034482\n",
            "\t\tSS Score: 46.89080459770114\n",
            "\t\tICAT Score: 10.52617717003567\n",
            "\toverall\n",
            "\t\tCount: 2123.0\n",
            "\t\tLM Score: 15.22345743214892\n",
            "\t\tSS Score: 51.345053994779455\n",
            "\t\tICAT Score: 14.813929987479582\n",
            "overall\n",
            "\tCount: 4229.0\n",
            "\tLM Score: 38.22440937309244\n",
            "\tSS Score: 51.3733710804838\n",
            "\tICAT Score: 37.17448340506086\n"
          ],
          "name": "stdout"
        }
      ]
    },
    {
      "cell_type": "markdown",
      "metadata": {
        "id": "Q0YbepOXJsoO"
      },
      "source": [
        "#Language Poem (pre-trained)\n"
      ]
    },
    {
      "cell_type": "code",
      "metadata": {
        "id": "y4SnA2w_JyUO"
      },
      "source": [
        "import os\n",
        "try:\n",
        "    os.makedirs('/content/gdrive/MyDrive/master_hpi/NLP_Project/code/results/lmpoem/')\n",
        "except OSError as e:\n",
        "        pass"
      ],
      "execution_count": 16,
      "outputs": []
    },
    {
      "cell_type": "code",
      "metadata": {
        "colab": {
          "base_uri": "https://localhost:8080/"
        },
        "id": "3B6lKsCQJ53J",
        "outputId": "5f4c3a5a-80c4-4452-ad37-1a1abebeedb0"
      },
      "source": [
        "!python3 /content/gdrive/MyDrive/master_hpi/NLP_Project/code/adapter_evaluation/evaluation.py --load-path_model /content/gdrive/MyDrive/master_hpi/NLP_Project/code/models/lmpoem/pytorch_adapter.bin --load-path_adapter /content/gdrive/MyDrive/master_hpi/NLP_Project/code/models/lmpoem/pytorch_adapter.bin --input-file /content/gdrive/MyDrive/master_hpi/NLP_Project/code/dev.json --output-dir /content/gdrive/MyDrive/master_hpi/NLP_Project/code/results/lmpoem/ --output-file /content/gdrive/MyDrive/master_hpi/NLP_Project/code/results/lmpoem/predictions.json\n",
        "#!python3 evaluation.py --no-cuda False --output-dir /content/gdrive/MyDrive/master_hpi/NLP_Project/code/results/ -- skip_intrasentence False --skip_intersentence False --batch_size 1"
      ],
      "execution_count": 17,
      "outputs": [
        {
          "output_type": "stream",
          "text": [
            "Loading /content/gdrive/MyDrive/master_hpi/NLP_Project/code/dev.json...\n",
            "---------------------------------------------------------------\n",
            "\u001b[96m                     ARGUMENTS                 \u001b[0m\n",
            "\u001b[96mPretrained Model:\u001b[0m /content/gdrive/MyDrive/master_hpi/NLP_Project/code/models/lmpoem/pytorch_adapter.bin\n",
            "\u001b[96mSkip Intrasentence:\u001b[0m False\n",
            "\u001b[96mSkip Intersentence:\u001b[0m False\n",
            "\u001b[96mBatch Size:\u001b[0m 1\n",
            "\u001b[96mMax Seq Length:\u001b[0m None\n",
            "\u001b[96mCUDA:\u001b[0m True\n",
            "---------------------------------------------------------------\n",
            "\n",
            "\u001b[94mEvaluating bias on intersentence tasks...\u001b[0m\n",
            "/usr/local/lib/python3.7/dist-packages/transformers/tokenization_utils_base.py:2160: FutureWarning: The `truncation_strategy` argument is deprecated and will be removed in a future version, use `truncation=True` to truncate examples to a max length. You can give a specific length with `max_length` (e.g. `max_length=45`) or leave max_length to None to truncate to the maximal input size of the model (e.g. 512 for Bert).  If you have pairs of inputs, you can give a specific truncation strategy selected among `truncation='only_first'` (will only truncate the first sentence in the pairs) `truncation='only_second'` (will only truncate the second sentence in the pairs) or `truncation='longest_first'` (will iteratively remove tokens from the longest sentence in the pairs).\n",
            "  FutureWarning,\n",
            "Maximum sequence length found: -inf\n",
            "Some weights of the model checkpoint at bert-base-uncased were not used when initializing BertModel: ['cls.predictions.transform.LayerNorm.weight', 'cls.predictions.transform.LayerNorm.bias', 'cls.seq_relationship.weight', 'cls.predictions.bias', 'cls.seq_relationship.bias', 'cls.predictions.decoder.weight', 'cls.predictions.transform.dense.weight', 'cls.predictions.transform.dense.bias']\n",
            "- This IS expected if you are initializing BertModel from the checkpoint of a model trained on another task or with another architecture (e.g. initializing a BertForSequenceClassification model from a BertForPreTraining model).\n",
            "- This IS NOT expected if you are initializing BertModel from the checkpoint of a model that you expect to be exactly identical (initializing a BertForSequenceClassification model from a BertForSequenceClassification model).\n",
            "Number of parameters: 109,483,778\n",
            "dict_keys(['transformer.h.0.output_adapters.adapters.poem.adapter_down.0.weight', 'transformer.h.0.output_adapters.adapters.poem.adapter_down.0.bias', 'transformer.h.0.output_adapters.adapters.poem.adapter_up.weight', 'transformer.h.0.output_adapters.adapters.poem.adapter_up.bias', 'transformer.h.1.output_adapters.adapters.poem.adapter_down.0.weight', 'transformer.h.1.output_adapters.adapters.poem.adapter_down.0.bias', 'transformer.h.1.output_adapters.adapters.poem.adapter_up.weight', 'transformer.h.1.output_adapters.adapters.poem.adapter_up.bias', 'transformer.h.2.output_adapters.adapters.poem.adapter_down.0.weight', 'transformer.h.2.output_adapters.adapters.poem.adapter_down.0.bias', 'transformer.h.2.output_adapters.adapters.poem.adapter_up.weight', 'transformer.h.2.output_adapters.adapters.poem.adapter_up.bias', 'transformer.h.3.output_adapters.adapters.poem.adapter_down.0.weight', 'transformer.h.3.output_adapters.adapters.poem.adapter_down.0.bias', 'transformer.h.3.output_adapters.adapters.poem.adapter_up.weight', 'transformer.h.3.output_adapters.adapters.poem.adapter_up.bias', 'transformer.h.4.output_adapters.adapters.poem.adapter_down.0.weight', 'transformer.h.4.output_adapters.adapters.poem.adapter_down.0.bias', 'transformer.h.4.output_adapters.adapters.poem.adapter_up.weight', 'transformer.h.4.output_adapters.adapters.poem.adapter_up.bias', 'transformer.h.5.output_adapters.adapters.poem.adapter_down.0.weight', 'transformer.h.5.output_adapters.adapters.poem.adapter_down.0.bias', 'transformer.h.5.output_adapters.adapters.poem.adapter_up.weight', 'transformer.h.5.output_adapters.adapters.poem.adapter_up.bias', 'transformer.h.6.output_adapters.adapters.poem.adapter_down.0.weight', 'transformer.h.6.output_adapters.adapters.poem.adapter_down.0.bias', 'transformer.h.6.output_adapters.adapters.poem.adapter_up.weight', 'transformer.h.6.output_adapters.adapters.poem.adapter_up.bias', 'transformer.h.7.output_adapters.adapters.poem.adapter_down.0.weight', 'transformer.h.7.output_adapters.adapters.poem.adapter_down.0.bias', 'transformer.h.7.output_adapters.adapters.poem.adapter_up.weight', 'transformer.h.7.output_adapters.adapters.poem.adapter_up.bias', 'transformer.h.8.output_adapters.adapters.poem.adapter_down.0.weight', 'transformer.h.8.output_adapters.adapters.poem.adapter_down.0.bias', 'transformer.h.8.output_adapters.adapters.poem.adapter_up.weight', 'transformer.h.8.output_adapters.adapters.poem.adapter_up.bias', 'transformer.h.9.output_adapters.adapters.poem.adapter_down.0.weight', 'transformer.h.9.output_adapters.adapters.poem.adapter_down.0.bias', 'transformer.h.9.output_adapters.adapters.poem.adapter_up.weight', 'transformer.h.9.output_adapters.adapters.poem.adapter_up.bias', 'transformer.h.10.output_adapters.adapters.poem.adapter_down.0.weight', 'transformer.h.10.output_adapters.adapters.poem.adapter_down.0.bias', 'transformer.h.10.output_adapters.adapters.poem.adapter_up.weight', 'transformer.h.10.output_adapters.adapters.poem.adapter_up.bias', 'transformer.h.11.output_adapters.adapters.poem.adapter_down.0.weight', 'transformer.h.11.output_adapters.adapters.poem.adapter_down.0.bias', 'transformer.h.11.output_adapters.adapters.poem.adapter_up.weight', 'transformer.h.11.output_adapters.adapters.poem.adapter_up.bias'])\n",
            "100% 6369/6369 [01:43<00:00, 61.44it/s]\n",
            "\n",
            "\u001b[91mEvaluating bias on intrasentence tasks...\u001b[0m\n",
            "Some weights of the model checkpoint at bert-base-uncased were not used when initializing BertModel: ['cls.predictions.transform.LayerNorm.weight', 'cls.predictions.transform.LayerNorm.bias', 'cls.seq_relationship.weight', 'cls.predictions.bias', 'cls.seq_relationship.bias', 'cls.predictions.decoder.weight', 'cls.predictions.transform.dense.weight', 'cls.predictions.transform.dense.bias']\n",
            "- This IS expected if you are initializing BertModel from the checkpoint of a model trained on another task or with another architecture (e.g. initializing a BertForSequenceClassification model from a BertForPreTraining model).\n",
            "- This IS NOT expected if you are initializing BertModel from the checkpoint of a model that you expect to be exactly identical (initializing a BertForSequenceClassification model from a BertForSequenceClassification model).\n",
            "Number of parameters: 109,483,778\n",
            "/usr/local/lib/python3.7/dist-packages/transformers/tokenization_utils_base.py:2132: FutureWarning: The `pad_to_max_length` argument is deprecated and will be removed in a future version, use `padding=True` or `padding='longest'` to pad to the longest sequence in the batch, or use `padding='max_length'` to pad to a max length. In this case, you can give a specific length with `max_length` (e.g. `max_length=45`) or leave max_length to None to pad to the maximal input size of the model (e.g. 512 for Bert).\n",
            "  FutureWarning,\n",
            "/usr/local/lib/python3.7/dist-packages/transformers/tokenization_utils_base.py:2132: FutureWarning: The `pad_to_max_length` argument is deprecated and will be removed in a future version, use `padding=True` or `padding='longest'` to pad to the longest sequence in the batch, or use `padding='max_length'` to pad to a max length. In this case, you can give a specific length with `max_length` (e.g. `max_length=45`) or leave max_length to None to pad to the maximal input size of the model (e.g. 512 for Bert).\n",
            "  FutureWarning,\n",
            "/usr/local/lib/python3.7/dist-packages/transformers/tokenization_utils_base.py:2132: FutureWarning: The `pad_to_max_length` argument is deprecated and will be removed in a future version, use `padding=True` or `padding='longest'` to pad to the longest sequence in the batch, or use `padding='max_length'` to pad to a max length. In this case, you can give a specific length with `max_length` (e.g. `max_length=45`) or leave max_length to None to pad to the maximal input size of the model (e.g. 512 for Bert).\n",
            "  FutureWarning,\n",
            "/usr/local/lib/python3.7/dist-packages/transformers/tokenization_utils_base.py:2132: FutureWarning: The `pad_to_max_length` argument is deprecated and will be removed in a future version, use `padding=True` or `padding='longest'` to pad to the longest sequence in the batch, or use `padding='max_length'` to pad to a max length. In this case, you can give a specific length with `max_length` (e.g. `max_length=45`) or leave max_length to None to pad to the maximal input size of the model (e.g. 512 for Bert).\n",
            "  FutureWarning,\n",
            "  0% 0/6318 [00:00<?, ?it/s]/usr/local/lib/python3.7/dist-packages/transformers/tokenization_utils_base.py:2132: FutureWarning: The `pad_to_max_length` argument is deprecated and will be removed in a future version, use `padding=True` or `padding='longest'` to pad to the longest sequence in the batch, or use `padding='max_length'` to pad to a max length. In this case, you can give a specific length with `max_length` (e.g. `max_length=45`) or leave max_length to None to pad to the maximal input size of the model (e.g. 512 for Bert).\n",
            "  FutureWarning,\n",
            "100% 6318/6318 [01:47<00:00, 58.68it/s]\n"
          ],
          "name": "stdout"
        }
      ]
    },
    {
      "cell_type": "code",
      "metadata": {
        "colab": {
          "base_uri": "https://localhost:8080/"
        },
        "id": "UPnSIwspJ8wX",
        "outputId": "36ff3896-410e-4882-c6ad-41c8507485ea"
      },
      "source": [
        "!python3 /content/gdrive/MyDrive/master_hpi/NLP_Project/code/adapter_evaluation/score_evaluation.py --gold-file /content/gdrive/MyDrive/master_hpi/NLP_Project/code/dev.json --predictions-file /content/gdrive/MyDrive/master_hpi/NLP_Project/code/results/lmpoem/predictions.json --output-file /content/gdrive/MyDrive/master_hpi/NLP_Project/code/results/lmpoem/summary.json"
      ],
      "execution_count": 18,
      "outputs": [
        {
          "output_type": "stream",
          "text": [
            "intrasentence\n",
            "\tgender\n",
            "\t\tCount: 765.0\n",
            "\t\tLM Score: 60.60657152831065\n",
            "\t\tSS Score: 52.33507876986139\n",
            "\t\tICAT Score: 57.776149158513775\n",
            "\tprofession\n",
            "\t\tCount: 2430.0\n",
            "\t\tLM Score: 57.82664639069813\n",
            "\t\tSS Score: 48.80567859483745\n",
            "\t\tICAT Score: 56.445374359234606\n",
            "\trace\n",
            "\t\tCount: 2886.0\n",
            "\t\tLM Score: 49.86421728632914\n",
            "\t\tSS Score: 57.931965700435626\n",
            "\t\tICAT Score: 41.9537920624445\n",
            "\treligion\n",
            "\t\tCount: 237.0\n",
            "\t\tLM Score: 47.793103448275865\n",
            "\t\tSS Score: 53.839080459770116\n",
            "\t\tICAT Score: 44.12347205707491\n",
            "\toverall\n",
            "\t\tCount: 2106.0\n",
            "\t\tLM Score: 54.16906632476871\n",
            "\t\tSS Score: 53.602394330870005\n",
            "\t\tICAT Score: 50.266299576031344\n",
            "intersentence\n",
            "\tgender\n",
            "\t\tCount: 726.0\n",
            "\t\tLM Score: 89.73087098087099\n",
            "\t\tSS Score: 55.53595760117499\n",
            "\t\tICAT Score: 79.79594503553889\n",
            "\tprofession\n",
            "\t\tCount: 2481.0\n",
            "\t\tLM Score: 79.9801205002169\n",
            "\t\tSS Score: 55.0862559473238\n",
            "\t\tICAT Score: 71.84413322897885\n",
            "\trace\n",
            "\t\tCount: 2928.0\n",
            "\t\tLM Score: 81.97717909879573\n",
            "\t\tSS Score: 46.90784723328599\n",
            "\t\tICAT Score: 76.90745987564071\n",
            "\treligion\n",
            "\t\tCount: 234.0\n",
            "\t\tLM Score: 84.95977011494253\n",
            "\t\tSS Score: 54.44252873563219\n",
            "\t\tICAT Score: 77.41104571277579\n",
            "\toverall\n",
            "\t\tCount: 2123.0\n",
            "\t\tLM Score: 82.31354535084417\n",
            "\t\tSS Score: 51.39186507641337\n",
            "\t\tICAT Score: 80.02215836905201\n",
            "overall\n",
            "\tCount: 4229.0\n",
            "\tLM Score: 68.28173553597722\n",
            "\tSS Score: 52.47106335183963\n",
            "\tICAT Score: 64.90716565031803\n"
          ],
          "name": "stdout"
        }
      ]
    },
    {
      "cell_type": "markdown",
      "metadata": {
        "id": "XjiwCTcAQJib"
      },
      "source": [
        "#Common Sense Winogrande (pre-trained)\n"
      ]
    },
    {
      "cell_type": "code",
      "metadata": {
        "id": "Iyxrzgq4QQtK"
      },
      "source": [
        "import os\n",
        "try:\n",
        "    os.makedirs('/content/gdrive/MyDrive/master_hpi/NLP_Project/code/results/winogrande/')\n",
        "except OSError as e:\n",
        "        pass"
      ],
      "execution_count": 19,
      "outputs": []
    },
    {
      "cell_type": "code",
      "metadata": {
        "colab": {
          "base_uri": "https://localhost:8080/"
        },
        "id": "8VOY-ZXwQVoO",
        "outputId": "b844b36b-e6df-47dd-a48c-862beba53af3"
      },
      "source": [
        "!python3 /content/gdrive/MyDrive/master_hpi/NLP_Project/code/adapter_evaluation/evaluation.py --load-path_model /content/gdrive/MyDrive/master_hpi/NLP_Project/code/models/winogrande/pytorch_adapter.bin --load-path_adapter /content/gdrive/MyDrive/master_hpi/NLP_Project/code/models/winogrande/pytorch_adapter.bin --input-file /content/gdrive/MyDrive/master_hpi/NLP_Project/code/dev.json --output-dir /content/gdrive/MyDrive/master_hpi/NLP_Project/code/results/winogrande/ --output-file /content/gdrive/MyDrive/master_hpi/NLP_Project/code/results/winogrande/predictions.json\n"
      ],
      "execution_count": 20,
      "outputs": [
        {
          "output_type": "stream",
          "text": [
            "Loading /content/gdrive/MyDrive/master_hpi/NLP_Project/code/dev.json...\n",
            "---------------------------------------------------------------\n",
            "\u001b[96m                     ARGUMENTS                 \u001b[0m\n",
            "\u001b[96mPretrained Model:\u001b[0m /content/gdrive/MyDrive/master_hpi/NLP_Project/code/models/winogrande/pytorch_adapter.bin\n",
            "\u001b[96mSkip Intrasentence:\u001b[0m False\n",
            "\u001b[96mSkip Intersentence:\u001b[0m False\n",
            "\u001b[96mBatch Size:\u001b[0m 1\n",
            "\u001b[96mMax Seq Length:\u001b[0m None\n",
            "\u001b[96mCUDA:\u001b[0m True\n",
            "---------------------------------------------------------------\n",
            "\n",
            "\u001b[94mEvaluating bias on intersentence tasks...\u001b[0m\n",
            "/usr/local/lib/python3.7/dist-packages/transformers/tokenization_utils_base.py:2160: FutureWarning: The `truncation_strategy` argument is deprecated and will be removed in a future version, use `truncation=True` to truncate examples to a max length. You can give a specific length with `max_length` (e.g. `max_length=45`) or leave max_length to None to truncate to the maximal input size of the model (e.g. 512 for Bert).  If you have pairs of inputs, you can give a specific truncation strategy selected among `truncation='only_first'` (will only truncate the first sentence in the pairs) `truncation='only_second'` (will only truncate the second sentence in the pairs) or `truncation='longest_first'` (will iteratively remove tokens from the longest sentence in the pairs).\n",
            "  FutureWarning,\n",
            "Maximum sequence length found: -inf\n",
            "Some weights of the model checkpoint at bert-base-uncased were not used when initializing BertModel: ['cls.predictions.transform.dense.bias', 'cls.predictions.decoder.weight', 'cls.seq_relationship.weight', 'cls.seq_relationship.bias', 'cls.predictions.transform.LayerNorm.weight', 'cls.predictions.transform.LayerNorm.bias', 'cls.predictions.transform.dense.weight', 'cls.predictions.bias']\n",
            "- This IS expected if you are initializing BertModel from the checkpoint of a model trained on another task or with another architecture (e.g. initializing a BertForSequenceClassification model from a BertForPreTraining model).\n",
            "- This IS NOT expected if you are initializing BertModel from the checkpoint of a model that you expect to be exactly identical (initializing a BertForSequenceClassification model from a BertForSequenceClassification model).\n",
            "Number of parameters: 109,483,778\n",
            "dict_keys(['roberta.encoder.layer.0.output.adapters.winogrande.adapter_down.0.weight', 'roberta.encoder.layer.0.output.adapters.winogrande.adapter_down.0.bias', 'roberta.encoder.layer.0.output.adapters.winogrande.adapter_up.weight', 'roberta.encoder.layer.0.output.adapters.winogrande.adapter_up.bias', 'roberta.encoder.layer.1.output.adapters.winogrande.adapter_down.0.weight', 'roberta.encoder.layer.1.output.adapters.winogrande.adapter_down.0.bias', 'roberta.encoder.layer.1.output.adapters.winogrande.adapter_up.weight', 'roberta.encoder.layer.1.output.adapters.winogrande.adapter_up.bias', 'roberta.encoder.layer.2.output.adapters.winogrande.adapter_down.0.weight', 'roberta.encoder.layer.2.output.adapters.winogrande.adapter_down.0.bias', 'roberta.encoder.layer.2.output.adapters.winogrande.adapter_up.weight', 'roberta.encoder.layer.2.output.adapters.winogrande.adapter_up.bias', 'roberta.encoder.layer.3.output.adapters.winogrande.adapter_down.0.weight', 'roberta.encoder.layer.3.output.adapters.winogrande.adapter_down.0.bias', 'roberta.encoder.layer.3.output.adapters.winogrande.adapter_up.weight', 'roberta.encoder.layer.3.output.adapters.winogrande.adapter_up.bias', 'roberta.encoder.layer.4.output.adapters.winogrande.adapter_down.0.weight', 'roberta.encoder.layer.4.output.adapters.winogrande.adapter_down.0.bias', 'roberta.encoder.layer.4.output.adapters.winogrande.adapter_up.weight', 'roberta.encoder.layer.4.output.adapters.winogrande.adapter_up.bias', 'roberta.encoder.layer.5.output.adapters.winogrande.adapter_down.0.weight', 'roberta.encoder.layer.5.output.adapters.winogrande.adapter_down.0.bias', 'roberta.encoder.layer.5.output.adapters.winogrande.adapter_up.weight', 'roberta.encoder.layer.5.output.adapters.winogrande.adapter_up.bias', 'roberta.encoder.layer.6.output.adapters.winogrande.adapter_down.0.weight', 'roberta.encoder.layer.6.output.adapters.winogrande.adapter_down.0.bias', 'roberta.encoder.layer.6.output.adapters.winogrande.adapter_up.weight', 'roberta.encoder.layer.6.output.adapters.winogrande.adapter_up.bias', 'roberta.encoder.layer.7.output.adapters.winogrande.adapter_down.0.weight', 'roberta.encoder.layer.7.output.adapters.winogrande.adapter_down.0.bias', 'roberta.encoder.layer.7.output.adapters.winogrande.adapter_up.weight', 'roberta.encoder.layer.7.output.adapters.winogrande.adapter_up.bias', 'roberta.encoder.layer.8.output.adapters.winogrande.adapter_down.0.weight', 'roberta.encoder.layer.8.output.adapters.winogrande.adapter_down.0.bias', 'roberta.encoder.layer.8.output.adapters.winogrande.adapter_up.weight', 'roberta.encoder.layer.8.output.adapters.winogrande.adapter_up.bias', 'roberta.encoder.layer.9.output.adapters.winogrande.adapter_down.0.weight', 'roberta.encoder.layer.9.output.adapters.winogrande.adapter_down.0.bias', 'roberta.encoder.layer.9.output.adapters.winogrande.adapter_up.weight', 'roberta.encoder.layer.9.output.adapters.winogrande.adapter_up.bias', 'roberta.encoder.layer.10.output.adapters.winogrande.adapter_down.0.weight', 'roberta.encoder.layer.10.output.adapters.winogrande.adapter_down.0.bias', 'roberta.encoder.layer.10.output.adapters.winogrande.adapter_up.weight', 'roberta.encoder.layer.10.output.adapters.winogrande.adapter_up.bias', 'roberta.encoder.layer.11.output.adapters.winogrande.adapter_down.0.weight', 'roberta.encoder.layer.11.output.adapters.winogrande.adapter_down.0.bias', 'roberta.encoder.layer.11.output.adapters.winogrande.adapter_up.weight', 'roberta.encoder.layer.11.output.adapters.winogrande.adapter_up.bias'])\n",
            "100% 6369/6369 [01:43<00:00, 61.45it/s]\n",
            "\n",
            "\u001b[91mEvaluating bias on intrasentence tasks...\u001b[0m\n",
            "Some weights of the model checkpoint at bert-base-uncased were not used when initializing BertModel: ['cls.predictions.transform.dense.bias', 'cls.predictions.decoder.weight', 'cls.seq_relationship.weight', 'cls.seq_relationship.bias', 'cls.predictions.transform.LayerNorm.weight', 'cls.predictions.transform.LayerNorm.bias', 'cls.predictions.transform.dense.weight', 'cls.predictions.bias']\n",
            "- This IS expected if you are initializing BertModel from the checkpoint of a model trained on another task or with another architecture (e.g. initializing a BertForSequenceClassification model from a BertForPreTraining model).\n",
            "- This IS NOT expected if you are initializing BertModel from the checkpoint of a model that you expect to be exactly identical (initializing a BertForSequenceClassification model from a BertForSequenceClassification model).\n",
            "Number of parameters: 109,483,778\n",
            "/usr/local/lib/python3.7/dist-packages/transformers/tokenization_utils_base.py:2132: FutureWarning: The `pad_to_max_length` argument is deprecated and will be removed in a future version, use `padding=True` or `padding='longest'` to pad to the longest sequence in the batch, or use `padding='max_length'` to pad to a max length. In this case, you can give a specific length with `max_length` (e.g. `max_length=45`) or leave max_length to None to pad to the maximal input size of the model (e.g. 512 for Bert).\n",
            "  FutureWarning,\n",
            "/usr/local/lib/python3.7/dist-packages/transformers/tokenization_utils_base.py:2132: FutureWarning: The `pad_to_max_length` argument is deprecated and will be removed in a future version, use `padding=True` or `padding='longest'` to pad to the longest sequence in the batch, or use `padding='max_length'` to pad to a max length. In this case, you can give a specific length with `max_length` (e.g. `max_length=45`) or leave max_length to None to pad to the maximal input size of the model (e.g. 512 for Bert).\n",
            "  FutureWarning,\n",
            "/usr/local/lib/python3.7/dist-packages/transformers/tokenization_utils_base.py:2132: FutureWarning: The `pad_to_max_length` argument is deprecated and will be removed in a future version, use `padding=True` or `padding='longest'` to pad to the longest sequence in the batch, or use `padding='max_length'` to pad to a max length. In this case, you can give a specific length with `max_length` (e.g. `max_length=45`) or leave max_length to None to pad to the maximal input size of the model (e.g. 512 for Bert).\n",
            "  FutureWarning,\n",
            "/usr/local/lib/python3.7/dist-packages/transformers/tokenization_utils_base.py:2132: FutureWarning: The `pad_to_max_length` argument is deprecated and will be removed in a future version, use `padding=True` or `padding='longest'` to pad to the longest sequence in the batch, or use `padding='max_length'` to pad to a max length. In this case, you can give a specific length with `max_length` (e.g. `max_length=45`) or leave max_length to None to pad to the maximal input size of the model (e.g. 512 for Bert).\n",
            "  FutureWarning,\n",
            "/usr/local/lib/python3.7/dist-packages/transformers/tokenization_utils_base.py:2132: FutureWarning: The `pad_to_max_length` argument is deprecated and will be removed in a future version, use `padding=True` or `padding='longest'` to pad to the longest sequence in the batch, or use `padding='max_length'` to pad to a max length. In this case, you can give a specific length with `max_length` (e.g. `max_length=45`) or leave max_length to None to pad to the maximal input size of the model (e.g. 512 for Bert).\n",
            "  FutureWarning,\n",
            " 88% 5577/6318 [01:34<00:12, 58.88it/s]\n",
            "Traceback (most recent call last):\n",
            "  File \"/content/gdrive/MyDrive/master_hpi/NLP_Project/code/adapter_evaluation/evaluation.py\", line 199, in <module>\n",
            "    results = evaluator.evaluate()\n",
            "  File \"/content/gdrive/MyDrive/master_hpi/NLP_Project/code/adapter_evaluation/evaluation.py\", line 191, in evaluate\n",
            "    intrasentence_bias = self.evaluate_intrasentence()\n",
            "  File \"/content/gdrive/MyDrive/master_hpi/NLP_Project/code/adapter_evaluation/evaluation.py\", line 129, in evaluate_intrasentence\n",
            "    predictions = self.model(input_ids, attention_mask=attention_mask, token_type_ids=token_type_ids)\n",
            "  File \"/usr/local/lib/python3.7/dist-packages/torch/nn/modules/module.py\", line 722, in _call_impl\n",
            "    result = self.forward(*input, **kwargs)\n",
            "  File \"/usr/local/lib/python3.7/dist-packages/torch/nn/parallel/data_parallel.py\", line 153, in forward\n",
            "    return self.module(*inputs[0], **kwargs[0])\n",
            "  File \"/usr/local/lib/python3.7/dist-packages/torch/nn/modules/module.py\", line 722, in _call_impl\n",
            "    result = self.forward(*input, **kwargs)\n",
            "  File \"/content/gdrive/MyDrive/master_hpi/NLP_Project/code/adapter_evaluation/utils.py\", line 81, in forward\n",
            "    _, pooled_output = self.bert(input_ids, token_type_ids=token_type_ids, attention_mask=attention_mask, return_dict=False) \n",
            "  File \"/usr/local/lib/python3.7/dist-packages/torch/nn/modules/module.py\", line 722, in _call_impl\n",
            "    result = self.forward(*input, **kwargs)\n",
            "  File \"/usr/local/lib/python3.7/dist-packages/transformers/models/bert/modeling_bert.py\", line 1032, in forward\n",
            "    **kwargs,\n",
            "  File \"/usr/local/lib/python3.7/dist-packages/torch/nn/modules/module.py\", line 722, in _call_impl\n",
            "    result = self.forward(*input, **kwargs)\n",
            "  File \"/usr/local/lib/python3.7/dist-packages/transformers/models/bert/modeling_bert.py\", line 609, in forward\n",
            "    **kwargs,\n",
            "  File \"/usr/local/lib/python3.7/dist-packages/torch/nn/modules/module.py\", line 722, in _call_impl\n",
            "    result = self.forward(*input, **kwargs)\n",
            "  File \"/usr/local/lib/python3.7/dist-packages/transformers/models/bert/modeling_bert.py\", line 493, in forward\n",
            "    **kwargs,\n",
            "  File \"/usr/local/lib/python3.7/dist-packages/torch/nn/modules/module.py\", line 722, in _call_impl\n",
            "    result = self.forward(*input, **kwargs)\n",
            "  File \"/usr/local/lib/python3.7/dist-packages/transformers/models/bert/modeling_bert.py\", line 421, in forward\n",
            "    output_attentions,\n",
            "  File \"/usr/local/lib/python3.7/dist-packages/torch/nn/modules/module.py\", line 722, in _call_impl\n",
            "    result = self.forward(*input, **kwargs)\n",
            "  File \"/usr/local/lib/python3.7/dist-packages/transformers/models/bert/modeling_bert.py\", line 299, in forward\n",
            "    value_layer = self.transpose_for_scores(self.value(hidden_states))\n",
            "  File \"/usr/local/lib/python3.7/dist-packages/torch/nn/modules/module.py\", line 722, in _call_impl\n",
            "    result = self.forward(*input, **kwargs)\n",
            "  File \"/usr/local/lib/python3.7/dist-packages/torch/nn/modules/linear.py\", line 91, in forward\n",
            "    return F.linear(input, self.weight, self.bias)\n",
            "  File \"/usr/local/lib/python3.7/dist-packages/torch/nn/functional.py\", line 1676, in linear\n",
            "    output = input.matmul(weight.t())\n",
            "KeyboardInterrupt\n"
          ],
          "name": "stdout"
        }
      ]
    },
    {
      "cell_type": "code",
      "metadata": {
        "colab": {
          "base_uri": "https://localhost:8080/"
        },
        "id": "IHR_-RszQjwA",
        "outputId": "a111a3fe-8b6b-4443-a938-5ba8a869abe6"
      },
      "source": [
        "!python3 /content/gdrive/MyDrive/master_hpi/NLP_Project/code/adapter_evaluation/score_evaluation.py --gold-file /content/gdrive/MyDrive/master_hpi/NLP_Project/code/dev.json --predictions-file /content/gdrive/MyDrive/master_hpi/NLP_Project/code/results/winogrande/predictions.json --output-file /content/gdrive/MyDrive/master_hpi/NLP_Project/code/results/winogrande/summary.json"
      ],
      "execution_count": 21,
      "outputs": [
        {
          "output_type": "stream",
          "text": [
            "intrasentence\n",
            "\tgender\n",
            "\t\tCount: 765.0\n",
            "\t\tLM Score: 68.57429510907772\n",
            "\t\tSS Score: 54.58370791849053\n",
            "\t\tICAT Score: 62.287804319150005\n",
            "\tprofession\n",
            "\t\tCount: 2430.0\n",
            "\t\tLM Score: 69.34632676916495\n",
            "\t\tSS Score: 48.82774310440195\n",
            "\t\tICAT Score: 67.72049257437395\n",
            "\trace\n",
            "\t\tCount: 2886.0\n",
            "\t\tLM Score: 69.79387709212011\n",
            "\t\tSS Score: 45.53308433875475\n",
            "\t\tICAT Score: 63.55860983928376\n",
            "\treligion\n",
            "\t\tCount: 237.0\n",
            "\t\tLM Score: 61.17241379310345\n",
            "\t\tSS Score: 43.3103448275862\n",
            "\t\tICAT Score: 52.98796670630202\n",
            "\toverall\n",
            "\t\tCount: 2106.0\n",
            "\t\tLM Score: 69.1421464665995\n",
            "\t\tSS Score: 47.84546130373283\n",
            "\t\tICAT Score: 66.16275786449428\n",
            "intersentence\n",
            "\tgender\n",
            "\t\tCount: 726.0\n",
            "\t\tLM Score: 16.173908619560795\n",
            "\t\tSS Score: 43.841110580241015\n",
            "\t\tICAT Score: 14.181642326097563\n",
            "\tprofession\n",
            "\t\tCount: 2481.0\n",
            "\t\tLM Score: 20.907715881325444\n",
            "\t\tSS Score: 40.66319326109833\n",
            "\t\tICAT Score: 17.003489830609425\n",
            "\trace\n",
            "\t\tCount: 2928.0\n",
            "\t\tLM Score: 17.98837111982118\n",
            "\t\tSS Score: 41.664682068093256\n",
            "\t\tICAT Score: 14.989595272604404\n",
            "\treligion\n",
            "\t\tCount: 234.0\n",
            "\t\tLM Score: 12.984674329501914\n",
            "\t\tSS Score: 41.015325670498086\n",
            "\t\tICAT Score: 10.651412926997548\n",
            "\toverall\n",
            "\t\tCount: 2123.0\n",
            "\t\tLM Score: 18.677290454904302\n",
            "\t\tSS Score: 41.53520803921788\n",
            "\t\tICAT Score: 15.515302893066972\n",
            "overall\n",
            "\tCount: 4229.0\n",
            "\tLM Score: 43.84731492345043\n",
            "\tSS Score: 44.74410224729032\n",
            "\tICAT Score: 39.2381748440801\n"
          ],
          "name": "stdout"
        }
      ]
    },
    {
      "cell_type": "markdown",
      "metadata": {
        "id": "wmtvxUp-T6FJ"
      },
      "source": [
        "#SST Pretrained\n"
      ]
    },
    {
      "cell_type": "code",
      "metadata": {
        "id": "Zinc5psBT8yh"
      },
      "source": [
        "import os\n",
        "try:\n",
        "    os.makedirs('/content/gdrive/MyDrive/master_hpi/NLP_Project/code/results/sst-pretrained/')\n",
        "except OSError as e:\n",
        "        pass"
      ],
      "execution_count": 22,
      "outputs": []
    },
    {
      "cell_type": "code",
      "metadata": {
        "colab": {
          "base_uri": "https://localhost:8080/"
        },
        "id": "NAbECqkiUTS1",
        "outputId": "7460d642-7e23-48bd-9245-3a9d002c5e30"
      },
      "source": [
        "!python3 /content/gdrive/MyDrive/master_hpi/NLP_Project/code/adapter_evaluation/evaluation.py --load-path_model /content/gdrive/MyDrive/master_hpi/NLP_Project/code/models/sst_pretrained/pytorch_adapter.bin --load-path_adapter /content/gdrive/MyDrive/master_hpi/NLP_Project/code/models/sst_pretrained/pytorch_adapter.bin --input-file /content/gdrive/MyDrive/master_hpi/NLP_Project/code/dev.json --output-dir /content/gdrive/MyDrive/master_hpi/NLP_Project/code/results/sst-pretrained/ --output-file /content/gdrive/MyDrive/master_hpi/NLP_Project/code/results/sst-pretrained/predictions.json\n"
      ],
      "execution_count": 23,
      "outputs": [
        {
          "output_type": "stream",
          "text": [
            "Loading /content/gdrive/MyDrive/master_hpi/NLP_Project/code/dev.json...\n",
            "---------------------------------------------------------------\n",
            "\u001b[96m                     ARGUMENTS                 \u001b[0m\n",
            "\u001b[96mPretrained Model:\u001b[0m /content/gdrive/MyDrive/master_hpi/NLP_Project/code/models/sst_pretrained/pytorch_adapter.bin\n",
            "\u001b[96mSkip Intrasentence:\u001b[0m False\n",
            "\u001b[96mSkip Intersentence:\u001b[0m False\n",
            "\u001b[96mBatch Size:\u001b[0m 1\n",
            "\u001b[96mMax Seq Length:\u001b[0m None\n",
            "\u001b[96mCUDA:\u001b[0m True\n",
            "---------------------------------------------------------------\n",
            "\n",
            "\u001b[94mEvaluating bias on intersentence tasks...\u001b[0m\n",
            "/usr/local/lib/python3.7/dist-packages/transformers/tokenization_utils_base.py:2160: FutureWarning: The `truncation_strategy` argument is deprecated and will be removed in a future version, use `truncation=True` to truncate examples to a max length. You can give a specific length with `max_length` (e.g. `max_length=45`) or leave max_length to None to truncate to the maximal input size of the model (e.g. 512 for Bert).  If you have pairs of inputs, you can give a specific truncation strategy selected among `truncation='only_first'` (will only truncate the first sentence in the pairs) `truncation='only_second'` (will only truncate the second sentence in the pairs) or `truncation='longest_first'` (will iteratively remove tokens from the longest sentence in the pairs).\n",
            "  FutureWarning,\n",
            "Maximum sequence length found: -inf\n",
            "Some weights of the model checkpoint at bert-base-uncased were not used when initializing BertModel: ['cls.predictions.decoder.weight', 'cls.predictions.bias', 'cls.predictions.transform.LayerNorm.bias', 'cls.predictions.transform.LayerNorm.weight', 'cls.predictions.transform.dense.bias', 'cls.seq_relationship.bias', 'cls.predictions.transform.dense.weight', 'cls.seq_relationship.weight']\n",
            "- This IS expected if you are initializing BertModel from the checkpoint of a model trained on another task or with another architecture (e.g. initializing a BertForSequenceClassification model from a BertForPreTraining model).\n",
            "- This IS NOT expected if you are initializing BertModel from the checkpoint of a model that you expect to be exactly identical (initializing a BertForSequenceClassification model from a BertForSequenceClassification model).\n",
            "Number of parameters: 109,483,778\n",
            "dict_keys(['bert.encoder.layer.0.output.adapters.sst-2.adapter_down.0.weight', 'bert.encoder.layer.0.output.adapters.sst-2.adapter_down.0.bias', 'bert.encoder.layer.0.output.adapters.sst-2.adapter_up.weight', 'bert.encoder.layer.0.output.adapters.sst-2.adapter_up.bias', 'bert.encoder.layer.1.output.adapters.sst-2.adapter_down.0.weight', 'bert.encoder.layer.1.output.adapters.sst-2.adapter_down.0.bias', 'bert.encoder.layer.1.output.adapters.sst-2.adapter_up.weight', 'bert.encoder.layer.1.output.adapters.sst-2.adapter_up.bias', 'bert.encoder.layer.2.output.adapters.sst-2.adapter_down.0.weight', 'bert.encoder.layer.2.output.adapters.sst-2.adapter_down.0.bias', 'bert.encoder.layer.2.output.adapters.sst-2.adapter_up.weight', 'bert.encoder.layer.2.output.adapters.sst-2.adapter_up.bias', 'bert.encoder.layer.3.output.adapters.sst-2.adapter_down.0.weight', 'bert.encoder.layer.3.output.adapters.sst-2.adapter_down.0.bias', 'bert.encoder.layer.3.output.adapters.sst-2.adapter_up.weight', 'bert.encoder.layer.3.output.adapters.sst-2.adapter_up.bias', 'bert.encoder.layer.4.output.adapters.sst-2.adapter_down.0.weight', 'bert.encoder.layer.4.output.adapters.sst-2.adapter_down.0.bias', 'bert.encoder.layer.4.output.adapters.sst-2.adapter_up.weight', 'bert.encoder.layer.4.output.adapters.sst-2.adapter_up.bias', 'bert.encoder.layer.5.output.adapters.sst-2.adapter_down.0.weight', 'bert.encoder.layer.5.output.adapters.sst-2.adapter_down.0.bias', 'bert.encoder.layer.5.output.adapters.sst-2.adapter_up.weight', 'bert.encoder.layer.5.output.adapters.sst-2.adapter_up.bias', 'bert.encoder.layer.6.output.adapters.sst-2.adapter_down.0.weight', 'bert.encoder.layer.6.output.adapters.sst-2.adapter_down.0.bias', 'bert.encoder.layer.6.output.adapters.sst-2.adapter_up.weight', 'bert.encoder.layer.6.output.adapters.sst-2.adapter_up.bias', 'bert.encoder.layer.7.output.adapters.sst-2.adapter_down.0.weight', 'bert.encoder.layer.7.output.adapters.sst-2.adapter_down.0.bias', 'bert.encoder.layer.7.output.adapters.sst-2.adapter_up.weight', 'bert.encoder.layer.7.output.adapters.sst-2.adapter_up.bias', 'bert.encoder.layer.8.output.adapters.sst-2.adapter_down.0.weight', 'bert.encoder.layer.8.output.adapters.sst-2.adapter_down.0.bias', 'bert.encoder.layer.8.output.adapters.sst-2.adapter_up.weight', 'bert.encoder.layer.8.output.adapters.sst-2.adapter_up.bias', 'bert.encoder.layer.9.output.adapters.sst-2.adapter_down.0.weight', 'bert.encoder.layer.9.output.adapters.sst-2.adapter_down.0.bias', 'bert.encoder.layer.9.output.adapters.sst-2.adapter_up.weight', 'bert.encoder.layer.9.output.adapters.sst-2.adapter_up.bias', 'bert.encoder.layer.10.output.adapters.sst-2.adapter_down.0.weight', 'bert.encoder.layer.10.output.adapters.sst-2.adapter_down.0.bias', 'bert.encoder.layer.10.output.adapters.sst-2.adapter_up.weight', 'bert.encoder.layer.10.output.adapters.sst-2.adapter_up.bias', 'bert.encoder.layer.11.output.adapters.sst-2.adapter_down.0.weight', 'bert.encoder.layer.11.output.adapters.sst-2.adapter_down.0.bias', 'bert.encoder.layer.11.output.adapters.sst-2.adapter_up.weight', 'bert.encoder.layer.11.output.adapters.sst-2.adapter_up.bias'])\n",
            " 51% 3221/6369 [00:52<00:50, 62.30it/s]Exception ignored in: <generator object tqdm.__iter__ at 0x7f78bba5f8d0>\n",
            "Traceback (most recent call last):\n",
            "  File \"/usr/local/lib/python3.7/dist-packages/tqdm/std.py\", line 1180, in __iter__\n",
            "    self.close()\n",
            "  File \"/usr/local/lib/python3.7/dist-packages/tqdm/std.py\", line 1268, in close\n",
            "    self._decr_instances(self)\n",
            "  File \"/usr/local/lib/python3.7/dist-packages/tqdm/std.py\", line 552, in _decr_instances\n",
            "    cls._instances.remove(instance)\n",
            "  File \"/usr/lib/python3.7/_weakrefset.py\", line 106, in remove\n",
            "    def remove(self, item):\n",
            "KeyboardInterrupt: \n",
            "Traceback (most recent call last):\n",
            "  File \"/content/gdrive/MyDrive/master_hpi/NLP_Project/code/adapter_evaluation/evaluation.py\", line 199, in <module>\n",
            "    results = evaluator.evaluate()\n",
            "  File \"/content/gdrive/MyDrive/master_hpi/NLP_Project/code/adapter_evaluation/evaluation.py\", line 187, in evaluate\n",
            "    intersentence_bias = self.evaluate_intersentence()\n",
            "  File \"/content/gdrive/MyDrive/master_hpi/NLP_Project/code/adapter_evaluation/evaluation.py\", line 175, in evaluate_intersentence\n",
            "    predictions = self.model(input_ids, attention_mask=attention_mask, token_type_ids=token_type_ids)\n",
            "  File \"/usr/local/lib/python3.7/dist-packages/torch/nn/modules/module.py\", line 722, in _call_impl\n",
            "    result = self.forward(*input, **kwargs)\n",
            "  File \"/usr/local/lib/python3.7/dist-packages/torch/nn/parallel/data_parallel.py\", line 153, in forward\n",
            "    return self.module(*inputs[0], **kwargs[0])\n",
            "  File \"/usr/local/lib/python3.7/dist-packages/torch/nn/modules/module.py\", line 722, in _call_impl\n",
            "    result = self.forward(*input, **kwargs)\n",
            "  File \"/content/gdrive/MyDrive/master_hpi/NLP_Project/code/adapter_evaluation/utils.py\", line 81, in forward\n",
            "    _, pooled_output = self.bert(input_ids, token_type_ids=token_type_ids, attention_mask=attention_mask, return_dict=False) \n",
            "  File \"/usr/local/lib/python3.7/dist-packages/torch/nn/modules/module.py\", line 722, in _call_impl\n",
            "    result = self.forward(*input, **kwargs)\n",
            "  File \"/usr/local/lib/python3.7/dist-packages/transformers/models/bert/modeling_bert.py\", line 1032, in forward\n",
            "    **kwargs,\n",
            "  File \"/usr/local/lib/python3.7/dist-packages/torch/nn/modules/module.py\", line 722, in _call_impl\n",
            "    result = self.forward(*input, **kwargs)\n",
            "  File \"/usr/local/lib/python3.7/dist-packages/transformers/models/bert/modeling_bert.py\", line 609, in forward\n",
            "    **kwargs,\n",
            "  File \"/usr/local/lib/python3.7/dist-packages/torch/nn/modules/module.py\", line 722, in _call_impl\n",
            "    result = self.forward(*input, **kwargs)\n",
            "  File \"/usr/local/lib/python3.7/dist-packages/transformers/models/bert/modeling_bert.py\", line 493, in forward\n",
            "    **kwargs,\n",
            "  File \"/usr/local/lib/python3.7/dist-packages/torch/nn/modules/module.py\", line 722, in _call_impl\n",
            "    result = self.forward(*input, **kwargs)\n",
            "  File \"/usr/local/lib/python3.7/dist-packages/transformers/models/bert/modeling_bert.py\", line 421, in forward\n",
            "    output_attentions,\n",
            "  File \"/usr/local/lib/python3.7/dist-packages/torch/nn/modules/module.py\", line 722, in _call_impl\n",
            "    result = self.forward(*input, **kwargs)\n",
            "  File \"/usr/local/lib/python3.7/dist-packages/transformers/models/bert/modeling_bert.py\", line 299, in forward\n",
            "    value_layer = self.transpose_for_scores(self.value(hidden_states))\n",
            "  File \"/usr/local/lib/python3.7/dist-packages/torch/nn/modules/module.py\", line 722, in _call_impl\n",
            "    result = self.forward(*input, **kwargs)\n",
            "  File \"/usr/local/lib/python3.7/dist-packages/torch/nn/modules/linear.py\", line 91, in forward\n",
            "    return F.linear(input, self.weight, self.bias)\n",
            "  File \"/usr/local/lib/python3.7/dist-packages/torch/nn/functional.py\", line 1678, in linear\n",
            "    output += bias\n",
            "KeyboardInterrupt\n"
          ],
          "name": "stdout"
        }
      ]
    },
    {
      "cell_type": "code",
      "metadata": {
        "colab": {
          "base_uri": "https://localhost:8080/"
        },
        "id": "K60WFJrzUquL",
        "outputId": "63fc5c9e-3fed-4685-d19e-743cbe8bda7a"
      },
      "source": [
        "!python3 /content/gdrive/MyDrive/master_hpi/NLP_Project/code/adapter_evaluation/score_evaluation.py --gold-file /content/gdrive/MyDrive/master_hpi/NLP_Project/code/dev.json --predictions-file /content/gdrive/MyDrive/master_hpi/NLP_Project/code/results/sst-pretrained/predictions.json --output-file /content/gdrive/MyDrive/master_hpi/NLP_Project/code/results/sst-pretrained/summary.json"
      ],
      "execution_count": 24,
      "outputs": [
        {
          "output_type": "stream",
          "text": [
            "intrasentence\n",
            "\tgender\n",
            "\t\tCount: 765.0\n",
            "\t\tLM Score: 51.475735053995926\n",
            "\t\tSS Score: 60.03565452261104\n",
            "\t\tICAT Score: 41.14388118800869\n",
            "\tprofession\n",
            "\t\tCount: 2430.0\n",
            "\t\tLM Score: 49.40798058808308\n",
            "\t\tSS Score: 47.84946663843627\n",
            "\t\tICAT Score: 47.28291037643976\n",
            "\trace\n",
            "\t\tCount: 2886.0\n",
            "\t\tLM Score: 43.56339419514788\n",
            "\t\tSS Score: 46.37599926220602\n",
            "\t\tICAT Score: 40.40591874106737\n",
            "\treligion\n",
            "\t\tCount: 237.0\n",
            "\t\tLM Score: 45.793103448275865\n",
            "\t\tSS Score: 45.241379310344826\n",
            "\t\tICAT Score: 41.43486325802616\n",
            "\toverall\n",
            "\t\tCount: 2106.0\n",
            "\t\tLM Score: 46.869092019653195\n",
            "\t\tSS Score: 48.621527287970245\n",
            "\t\tICAT Score: 45.576936731919126\n",
            "intersentence\n",
            "\tgender\n",
            "\t\tCount: 726.0\n",
            "\t\tLM Score: 89.69184096901489\n",
            "\t\tSS Score: 59.3633097980924\n",
            "\t\tICAT Score: 72.89559110193244\n",
            "\tprofession\n",
            "\t\tCount: 2481.0\n",
            "\t\tLM Score: 86.00529644211514\n",
            "\t\tSS Score: 61.364194314453876\n",
            "\t\tICAT Score: 66.45767842530704\n",
            "\trace\n",
            "\t\tCount: 2928.0\n",
            "\t\tLM Score: 88.7734208442171\n",
            "\t\tSS Score: 60.473608971924996\n",
            "\t\tICAT Score: 70.17785890376778\n",
            "\treligion\n",
            "\t\tCount: 234.0\n",
            "\t\tLM Score: 90.5919540229885\n",
            "\t\tSS Score: 55.11302681992337\n",
            "\t\tICAT Score: 81.3279722112124\n",
            "\toverall\n",
            "\t\tCount: 2123.0\n",
            "\t\tLM Score: 87.9075482963846\n",
            "\t\tSS Score: 60.46769532738746\n",
            "\t\tICAT Score: 69.50375964550155\n",
            "overall\n",
            "\tCount: 4229.0\n",
            "\tLM Score: 67.42484660277111\n",
            "\tSS Score: 54.53478783222307\n",
            "\tICAT Score: 61.309699123496046\n"
          ],
          "name": "stdout"
        }
      ]
    }
  ]
}